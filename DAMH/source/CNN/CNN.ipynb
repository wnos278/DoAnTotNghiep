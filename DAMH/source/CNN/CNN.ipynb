{
 "cells": [
  {
   "cell_type": "markdown",
   "metadata": {},
   "source": [
    "# Khai báo thư viện"
   ]
  },
  {
   "cell_type": "code",
   "execution_count": 1,
   "metadata": {},
   "outputs": [
    {
     "name": "stderr",
     "output_type": "stream",
     "text": [
      "Using TensorFlow backend.\n"
     ]
    }
   ],
   "source": [
    "import pandas as pd\n",
    "import numpy as np\n",
    "import re\n",
    "from sklearn.metrics import accuracy_score\n",
    "import matplotlib.pyplot as plt\n",
    "import datetime, time, json\n",
    "from string import punctuation\n",
    "from keras.layers import Input\n",
    "from keras.preprocessing.text import Tokenizer, one_hot\n",
    "from keras.preprocessing.sequence import pad_sequences\n",
    "from keras.models import Sequential\n",
    "from keras.layers import Embedding,GlobalMaxPooling1D,LeakyReLU,Dense, Dropout,Conv1D, SpatialDropout1D,Reshape,Concatenate, BatchNormalization, TimeDistributed, Lambda, Activation, LSTM, Flatten, Convolution1D, GRU, MaxPooling1D\n",
    "from keras.regularizers import l2\n",
    "from keras.callbacks import Callback, ModelCheckpoint, EarlyStopping\n",
    "from keras import initializers\n",
    "from keras import backend as K\n",
    "from keras.optimizers import SGD\n",
    "from collections import defaultdict\n",
    "from keras.layers.merge import concatenate\n",
    "from keras.models import Model\n",
    "import time\n",
    "import sklearn\n",
    "import random \n",
    "from sklearn.model_selection import train_test_split\n",
    "from sklearn.metrics import classification_report, accuracy_score, confusion_matrix\n",
    "import matplotlib.pyplot as plt\n",
    "import ntpath\n",
    "import keras\n"
   ]
  },
  {
   "cell_type": "markdown",
   "metadata": {},
   "source": [
    "# Load data"
   ]
  },
  {
   "cell_type": "code",
   "execution_count": 2,
   "metadata": {},
   "outputs": [],
   "source": [
    "# x3 data clean\n",
    "from pathlib import Path\n",
    "input_dir = Path('train/OutText')\n",
    "data_files = input_dir.glob('**/*.asm')\n",
    "data_total = []\n",
    "label_total = []\n",
    "for file in data_files:\n",
    "    with open(file, 'r') as f:\n",
    "        data = f.read().replace('\\x00','').lower()\n",
    "        data_total.append(data)\n",
    "        if 'clean' in str(file):\n",
    "            label_total.append([1,0])\n",
    "        else:\n",
    "            label_total.append([0,1])"
   ]
  },
  {
   "cell_type": "markdown",
   "metadata": {},
   "source": [
    "## sontdc_loaddata"
   ]
  },
  {
   "cell_type": "code",
   "execution_count": 2,
   "metadata": {},
   "outputs": [],
   "source": [
    "# x3 data clean\n",
    "from pathlib import Path\n",
    "data_total = []\n",
    "label_total = []\n",
    "# clean_js path\n",
    "input_clean_dir = Path('H:/DoAnTotNghiep/DAMH/data_crawl/sontdc_data_js/clean_js/res')\n",
    "data_clean_files = input_clean_dir.glob('*')\n",
    "for file in data_clean_files:\n",
    "    with open(file, 'r') as f:\n",
    "        data = f.read().replace('\\x00', '').lower()\n",
    "        data_total.append(data)\n",
    "        data_total.append(data)\n",
    "        label_total.append([1, 0])\n",
    "        label_total.append([1, 0])\n",
    "# malware_js path\n",
    "input_malware_dir = Path('H:/DoAnTotNghiep/DAMH/data_crawl/sontdc_data_js/virus_js/res')\n",
    "data_malware_files = input_malware_dir.glob('*')\n",
    "for file in data_malware_files:\n",
    "    with open(file, 'r') as f:\n",
    "        data = f.read().replace('\\x00', '').lower()\n",
    "        data_total.append(data)\n",
    "        label_total.append([0, 1])\n"
   ]
  },
  {
   "cell_type": "code",
   "execution_count": 3,
   "metadata": {},
   "outputs": [
    {
     "data": {
      "text/plain": [
       "5222"
      ]
     },
     "execution_count": 3,
     "metadata": {},
     "output_type": "execute_result"
    }
   ],
   "source": [
    "len(label_total)"
   ]
  },
  {
   "cell_type": "code",
   "execution_count": 4,
   "metadata": {},
   "outputs": [
    {
     "data": {
      "text/plain": [
       "5222"
      ]
     },
     "execution_count": 4,
     "metadata": {},
     "output_type": "execute_result"
    }
   ],
   "source": [
    "len(data_total)"
   ]
  },
  {
   "cell_type": "markdown",
   "metadata": {},
   "source": [
    "# xử lý data"
   ]
  },
  {
   "cell_type": "code",
   "execution_count": 5,
   "metadata": {
    "scrolled": true
   },
   "outputs": [
    {
     "ename": "MemoryError",
     "evalue": "Unable to allocate 6.98 GiB for an array with shape (4699, 398719) and data type int32",
     "output_type": "error",
     "traceback": [
      "\u001b[1;31m---------------------------------------------------------------------------\u001b[0m",
      "\u001b[1;31mMemoryError\u001b[0m                               Traceback (most recent call last)",
      "\u001b[1;32m<ipython-input-5-a85fd851da40>\u001b[0m in \u001b[0;36m<module>\u001b[1;34m\u001b[0m\n\u001b[0;32m     21\u001b[0m \u001b[1;33m\u001b[0m\u001b[0m\n\u001b[0;32m     22\u001b[0m \u001b[1;31m# Add pading to ensure all vectors have same dimensionality\u001b[0m\u001b[1;33m\u001b[0m\u001b[1;33m\u001b[0m\u001b[1;33m\u001b[0m\u001b[0m\n\u001b[1;32m---> 23\u001b[1;33m \u001b[0mX_train\u001b[0m \u001b[1;33m=\u001b[0m \u001b[0mpad_sequences\u001b[0m\u001b[1;33m(\u001b[0m\u001b[0mX_train\u001b[0m\u001b[1;33m,\u001b[0m \u001b[0mpadding\u001b[0m\u001b[1;33m=\u001b[0m\u001b[1;34m'post'\u001b[0m\u001b[1;33m,\u001b[0m \u001b[0mmaxlen\u001b[0m\u001b[1;33m=\u001b[0m\u001b[0mmaxlen\u001b[0m\u001b[1;33m)\u001b[0m\u001b[1;33m\u001b[0m\u001b[1;33m\u001b[0m\u001b[0m\n\u001b[0m\u001b[0;32m     24\u001b[0m \u001b[0mX_test\u001b[0m \u001b[1;33m=\u001b[0m \u001b[0mpad_sequences\u001b[0m\u001b[1;33m(\u001b[0m\u001b[0mX_test\u001b[0m\u001b[1;33m,\u001b[0m \u001b[0mpadding\u001b[0m\u001b[1;33m=\u001b[0m\u001b[1;34m'post'\u001b[0m\u001b[1;33m,\u001b[0m \u001b[0mmaxlen\u001b[0m\u001b[1;33m=\u001b[0m\u001b[0mmaxlen\u001b[0m\u001b[1;33m)\u001b[0m\u001b[1;33m\u001b[0m\u001b[1;33m\u001b[0m\u001b[0m\n",
      "\u001b[1;32md:\\anaconda3\\envs\\tensorflow-gpu\\lib\\site-packages\\keras_preprocessing\\sequence.py\u001b[0m in \u001b[0;36mpad_sequences\u001b[1;34m(sequences, maxlen, dtype, padding, truncating, value)\u001b[0m\n\u001b[0;32m     81\u001b[0m                          .format(dtype, type(value)))\n\u001b[0;32m     82\u001b[0m \u001b[1;33m\u001b[0m\u001b[0m\n\u001b[1;32m---> 83\u001b[1;33m     \u001b[0mx\u001b[0m \u001b[1;33m=\u001b[0m \u001b[0mnp\u001b[0m\u001b[1;33m.\u001b[0m\u001b[0mfull\u001b[0m\u001b[1;33m(\u001b[0m\u001b[1;33m(\u001b[0m\u001b[0mnum_samples\u001b[0m\u001b[1;33m,\u001b[0m \u001b[0mmaxlen\u001b[0m\u001b[1;33m)\u001b[0m \u001b[1;33m+\u001b[0m \u001b[0msample_shape\u001b[0m\u001b[1;33m,\u001b[0m \u001b[0mvalue\u001b[0m\u001b[1;33m,\u001b[0m \u001b[0mdtype\u001b[0m\u001b[1;33m=\u001b[0m\u001b[0mdtype\u001b[0m\u001b[1;33m)\u001b[0m\u001b[1;33m\u001b[0m\u001b[1;33m\u001b[0m\u001b[0m\n\u001b[0m\u001b[0;32m     84\u001b[0m     \u001b[1;32mfor\u001b[0m \u001b[0midx\u001b[0m\u001b[1;33m,\u001b[0m \u001b[0ms\u001b[0m \u001b[1;32min\u001b[0m \u001b[0menumerate\u001b[0m\u001b[1;33m(\u001b[0m\u001b[0msequences\u001b[0m\u001b[1;33m)\u001b[0m\u001b[1;33m:\u001b[0m\u001b[1;33m\u001b[0m\u001b[1;33m\u001b[0m\u001b[0m\n\u001b[0;32m     85\u001b[0m         \u001b[1;32mif\u001b[0m \u001b[1;32mnot\u001b[0m \u001b[0mlen\u001b[0m\u001b[1;33m(\u001b[0m\u001b[0ms\u001b[0m\u001b[1;33m)\u001b[0m\u001b[1;33m:\u001b[0m\u001b[1;33m\u001b[0m\u001b[1;33m\u001b[0m\u001b[0m\n",
      "\u001b[1;32md:\\anaconda3\\envs\\tensorflow-gpu\\lib\\site-packages\\numpy\\core\\numeric.py\u001b[0m in \u001b[0;36mfull\u001b[1;34m(shape, fill_value, dtype, order)\u001b[0m\n\u001b[0;32m    323\u001b[0m     \u001b[1;32mif\u001b[0m \u001b[0mdtype\u001b[0m \u001b[1;32mis\u001b[0m \u001b[1;32mNone\u001b[0m\u001b[1;33m:\u001b[0m\u001b[1;33m\u001b[0m\u001b[1;33m\u001b[0m\u001b[0m\n\u001b[0;32m    324\u001b[0m         \u001b[0mdtype\u001b[0m \u001b[1;33m=\u001b[0m \u001b[0marray\u001b[0m\u001b[1;33m(\u001b[0m\u001b[0mfill_value\u001b[0m\u001b[1;33m)\u001b[0m\u001b[1;33m.\u001b[0m\u001b[0mdtype\u001b[0m\u001b[1;33m\u001b[0m\u001b[1;33m\u001b[0m\u001b[0m\n\u001b[1;32m--> 325\u001b[1;33m     \u001b[0ma\u001b[0m \u001b[1;33m=\u001b[0m \u001b[0mempty\u001b[0m\u001b[1;33m(\u001b[0m\u001b[0mshape\u001b[0m\u001b[1;33m,\u001b[0m \u001b[0mdtype\u001b[0m\u001b[1;33m,\u001b[0m \u001b[0morder\u001b[0m\u001b[1;33m)\u001b[0m\u001b[1;33m\u001b[0m\u001b[1;33m\u001b[0m\u001b[0m\n\u001b[0m\u001b[0;32m    326\u001b[0m     \u001b[0mmultiarray\u001b[0m\u001b[1;33m.\u001b[0m\u001b[0mcopyto\u001b[0m\u001b[1;33m(\u001b[0m\u001b[0ma\u001b[0m\u001b[1;33m,\u001b[0m \u001b[0mfill_value\u001b[0m\u001b[1;33m,\u001b[0m \u001b[0mcasting\u001b[0m\u001b[1;33m=\u001b[0m\u001b[1;34m'unsafe'\u001b[0m\u001b[1;33m)\u001b[0m\u001b[1;33m\u001b[0m\u001b[1;33m\u001b[0m\u001b[0m\n\u001b[0;32m    327\u001b[0m     \u001b[1;32mreturn\u001b[0m \u001b[0ma\u001b[0m\u001b[1;33m\u001b[0m\u001b[1;33m\u001b[0m\u001b[0m\n",
      "\u001b[1;31mMemoryError\u001b[0m: Unable to allocate 6.98 GiB for an array with shape (4699, 398719) and data type int32"
     ]
    }
   ],
   "source": [
    "RANDOM_STATE = 42\n",
    "\n",
    "# Split train & test\n",
    "text_train, text_test, y_train, y_test = train_test_split(data_total, label_total, test_size=0.1, random_state=RANDOM_STATE)\n",
    "\n",
    "#num_words = 10000\n",
    "# Tokenize and transform to integer index\n",
    "tokenizer = Tokenizer(oov_token='UNK',filters='\\t\\n')\n",
    "tokenizer.fit_on_texts(text_train)\n",
    "\n",
    "#change to unk it word > num_words\n",
    "# mặc định thứ tự các từ đã sắp xếp theo tuần suất nên có thể loại các từ vị trí cao\n",
    "#tokenizer.word_index = {e:i for e,i in tokenizer.word_index.items() if i <= num_words}\n",
    "#tokenizer.word_index[tokenizer.oov_token] = num_words + 1\n",
    "\n",
    "X_train = tokenizer.texts_to_sequences(text_train)\n",
    "X_test = tokenizer.texts_to_sequences(text_test)\n",
    "\n",
    "vocab_size = len(tokenizer.word_index) + 1  # Adding 1 because of reserved 0 index\n",
    "maxlen = max(len(x) for x in X_train) # longest text in train set\n",
    "\n",
    "# Add pading to ensure all vectors have same dimensionality\n",
    "X_train = pad_sequences(X_train, padding='post', maxlen=maxlen)\n",
    "X_test = pad_sequences(X_test, padding='post', maxlen=maxlen)"
   ]
  },
  {
   "cell_type": "code",
   "execution_count": 6,
   "metadata": {},
   "outputs": [
    {
     "ename": "FileNotFoundError",
     "evalue": "[Errno 2] No such file or directory: 'tokenizer_10000_1902.pickle'",
     "output_type": "error",
     "traceback": [
      "\u001b[1;31m---------------------------------------------------------------------------\u001b[0m",
      "\u001b[1;31mFileNotFoundError\u001b[0m                         Traceback (most recent call last)",
      "\u001b[1;32m<ipython-input-6-82f71edd8ae2>\u001b[0m in \u001b[0;36m<module>\u001b[1;34m\u001b[0m\n\u001b[0;32m      1\u001b[0m \u001b[1;32mimport\u001b[0m \u001b[0mpickle\u001b[0m\u001b[1;33m\u001b[0m\u001b[1;33m\u001b[0m\u001b[0m\n\u001b[0;32m      2\u001b[0m \u001b[1;31m# loading\u001b[0m\u001b[1;33m\u001b[0m\u001b[1;33m\u001b[0m\u001b[1;33m\u001b[0m\u001b[0m\n\u001b[1;32m----> 3\u001b[1;33m \u001b[1;32mwith\u001b[0m \u001b[0mopen\u001b[0m\u001b[1;33m(\u001b[0m\u001b[1;34m'tokenizer_10000_1902.pickle'\u001b[0m\u001b[1;33m,\u001b[0m \u001b[1;34m'rb'\u001b[0m\u001b[1;33m)\u001b[0m \u001b[1;32mas\u001b[0m \u001b[0mhandle\u001b[0m\u001b[1;33m:\u001b[0m\u001b[1;33m\u001b[0m\u001b[1;33m\u001b[0m\u001b[0m\n\u001b[0m\u001b[0;32m      4\u001b[0m     \u001b[0mtokenizer\u001b[0m \u001b[1;33m=\u001b[0m \u001b[0mpickle\u001b[0m\u001b[1;33m.\u001b[0m\u001b[0mload\u001b[0m\u001b[1;33m(\u001b[0m\u001b[0mhandle\u001b[0m\u001b[1;33m)\u001b[0m\u001b[1;33m\u001b[0m\u001b[1;33m\u001b[0m\u001b[0m\n",
      "\u001b[1;31mFileNotFoundError\u001b[0m: [Errno 2] No such file or directory: 'tokenizer_10000_1902.pickle'"
     ]
    }
   ],
   "source": [
    "import pickle\n",
    "# loading\n",
    "with open('tokenizer_10000_1902.pickle', 'rb') as handle:\n",
    "    tokenizer = pickle.load(handle)"
   ]
  },
  {
   "cell_type": "code",
   "execution_count": 6,
   "metadata": {},
   "outputs": [],
   "source": [
    "RANDOM_STATE = 42\n",
    "\n",
    "# Split train & test\n",
    "text_train, text_test, y_train, y_test = train_test_split(data_total, label_total, test_size=0.1, random_state=RANDOM_STATE)\n"
   ]
  },
  {
   "cell_type": "code",
   "execution_count": 7,
   "metadata": {},
   "outputs": [],
   "source": [
    "tokenizer = Tokenizer(oov_token='UNK',filters='\\t\\n')\n",
    "tokenizer.fit_on_texts(text_train)"
   ]
  },
  {
   "cell_type": "code",
   "execution_count": null,
   "metadata": {},
   "outputs": [],
   "source": []
  },
  {
   "cell_type": "code",
   "execution_count": 26,
   "metadata": {},
   "outputs": [],
   "source": [
    "X_train = tokenizer.texts_to_sequences(text_train)\n",
    "X_test = tokenizer.texts_to_sequences(text_test)"
   ]
  },
  {
   "cell_type": "code",
   "execution_count": 6,
   "metadata": {},
   "outputs": [],
   "source": [
    "vocab_size = len(tokenizer.word_index) + 1  # Adding 1 because of reserved 0 index"
   ]
  },
  {
   "cell_type": "code",
   "execution_count": 7,
   "metadata": {},
   "outputs": [
    {
     "data": {
      "text/plain": [
       "5153"
      ]
     },
     "execution_count": 7,
     "metadata": {},
     "output_type": "execute_result"
    }
   ],
   "source": [
    "vocab_size"
   ]
  },
  {
   "cell_type": "code",
   "execution_count": 8,
   "metadata": {},
   "outputs": [],
   "source": [
    "y_train=np.asarray(y_train)\n",
    "y_test=np.asarray(y_test)"
   ]
  },
  {
   "cell_type": "code",
   "execution_count": 9,
   "metadata": {},
   "outputs": [],
   "source": [
    "MaxSize = 20000"
   ]
  },
  {
   "cell_type": "code",
   "execution_count": 10,
   "metadata": {},
   "outputs": [],
   "source": [
    "for index2 in range(len(X_train)):\n",
    "    if len(X_train[index2]) > MaxSize:\n",
    "        del X_train[index2][(MaxSize):] \n",
    "for index3 in range(len(X_test)):\n",
    "    if len(X_test[index3]) > MaxSize:\n",
    "        del X_test[index3][(MaxSize):]         "
   ]
  },
  {
   "cell_type": "code",
   "execution_count": 32,
   "metadata": {},
   "outputs": [],
   "source": [
    "X_train = pad_sequences(X_train, padding='post', maxlen=MaxSize)\n",
    "X_test = pad_sequences(X_test, padding='post', maxlen=MaxSize)"
   ]
  },
  {
   "cell_type": "code",
   "execution_count": 33,
   "metadata": {},
   "outputs": [
    {
     "data": {
      "text/plain": [
       "array([[ 11,  15,   8, ...,   0,   0,   0],\n",
       "       [ 25,   6, 666, ...,   0,   0,   0],\n",
       "       [ 11,  15,   8, ...,   0,   0,   0],\n",
       "       ...,\n",
       "       [ 11,  15,   8, ...,   0,   0,   0],\n",
       "       [ 16,  34,   5, ...,   0,   0,   0],\n",
       "       [ 33,   6,   5, ...,   0,   0,   0]])"
      ]
     },
     "execution_count": 33,
     "metadata": {},
     "output_type": "execute_result"
    }
   ],
   "source": [
    "X_train"
   ]
  },
  {
   "cell_type": "code",
   "execution_count": 34,
   "metadata": {},
   "outputs": [
    {
     "data": {
      "text/plain": [
       "5153"
      ]
     },
     "execution_count": 34,
     "metadata": {},
     "output_type": "execute_result"
    }
   ],
   "source": [
    "vocab_size"
   ]
  },
  {
   "cell_type": "code",
   "execution_count": 35,
   "metadata": {},
   "outputs": [
    {
     "data": {
      "text/plain": [
       "array([11, 15,  8, ...,  0,  0,  0])"
      ]
     },
     "execution_count": 35,
     "metadata": {},
     "output_type": "execute_result"
    }
   ],
   "source": [
    "X_train[0]"
   ]
  },
  {
   "cell_type": "markdown",
   "metadata": {},
   "source": [
    "# Thiết kế mạng"
   ]
  },
  {
   "cell_type": "code",
   "execution_count": 36,
   "metadata": {
    "scrolled": true
   },
   "outputs": [
    {
     "name": "stdout",
     "output_type": "stream",
     "text": [
      "Model: \"sequential_2\"\n",
      "_________________________________________________________________\n",
      "Layer (type)                 Output Shape              Param #   \n",
      "=================================================================\n",
      "embedding_2 (Embedding)      (None, 20000, 100)        515400    \n",
      "_________________________________________________________________\n",
      "conv1d_2 (Conv1D)            (None, 19996, 128)        64128     \n",
      "_________________________________________________________________\n",
      "global_max_pooling1d_2 (Glob (None, 128)               0         \n",
      "_________________________________________________________________\n",
      "dense_3 (Dense)              (None, 10)                1290      \n",
      "_________________________________________________________________\n",
      "dropout_2 (Dropout)          (None, 10)                0         \n",
      "_________________________________________________________________\n",
      "dense_4 (Dense)              (None, 2)                 22        \n",
      "=================================================================\n",
      "Total params: 580,840\n",
      "Trainable params: 580,840\n",
      "Non-trainable params: 0\n",
      "_________________________________________________________________\n",
      "None\n"
     ]
    }
   ],
   "source": [
    "# Define CNN architecture\n",
    "\n",
    "embedding_dim = 100\n",
    "\n",
    "model = Sequential()\n",
    "model.add(keras.layers.Embedding(vocab_size + 1, embedding_dim, input_length=MaxSize))\n",
    "model.add(keras.layers.Conv1D(128, 5, activation='relu'))\n",
    "model.add(keras.layers.GlobalMaxPooling1D())\n",
    "model.add(keras.layers.Dense(10, activation='relu'))\n",
    "model.add(keras.layers.Dropout(0.3))\n",
    "model.add(keras.layers.Dense(2, activation='sigmoid'))\n",
    "model.compile(optimizer='adam',\n",
    "              loss='binary_crossentropy',\n",
    "              metrics=['accuracy'])\n",
    "print(model.summary())"
   ]
  },
  {
   "cell_type": "markdown",
   "metadata": {},
   "source": [
    "# Chạy huấn luyện"
   ]
  },
  {
   "cell_type": "code",
   "execution_count": 46,
   "metadata": {
    "scrolled": false
   },
   "outputs": [
    {
     "name": "stdout",
     "output_type": "stream",
     "text": [
      "Train on 4699 samples, validate on 523 samples\n",
      "Epoch 1/5\n",
      "4699/4699 [==============================] - 567s 121ms/step - loss: 0.0390 - accuracy: 0.9836 - val_loss: 0.1301 - val_accuracy: 0.9751\n",
      "Epoch 2/5\n",
      "4699/4699 [==============================] - 562s 120ms/step - loss: 0.0330 - accuracy: 0.9874 - val_loss: 0.1571 - val_accuracy: 0.9771\n",
      "Epoch 3/5\n",
      "4699/4699 [==============================] - 564s 120ms/step - loss: 0.0368 - accuracy: 0.9851 - val_loss: 0.1628 - val_accuracy: 0.9732\n",
      "Epoch 4/5\n",
      "4699/4699 [==============================] - 562s 120ms/step - loss: 0.0402 - accuracy: 0.9834 - val_loss: 0.1738 - val_accuracy: 0.9751\n",
      "Epoch 5/5\n",
      "4699/4699 [==============================] - 561s 119ms/step - loss: 0.0442 - accuracy: 0.9840 - val_loss: 0.1441 - val_accuracy: 0.9771\n"
     ]
    }
   ],
   "source": [
    "# Fit model\n",
    "history = model.fit(X_train, y_train,\n",
    "                    epochs=5,\n",
    "                    verbose=True,\n",
    "                    validation_data=(X_test, y_test),\n",
    "                    batch_size=10)\n"
   ]
  },
  {
   "cell_type": "code",
   "execution_count": 8,
   "metadata": {},
   "outputs": [
    {
     "ename": "NameError",
     "evalue": "name 'model' is not defined",
     "output_type": "error",
     "traceback": [
      "\u001b[1;31m---------------------------------------------------------------------------\u001b[0m",
      "\u001b[1;31mNameError\u001b[0m                                 Traceback (most recent call last)",
      "\u001b[1;32m<ipython-input-8-b2485c080737>\u001b[0m in \u001b[0;36m<module>\u001b[1;34m\u001b[0m\n\u001b[1;32m----> 1\u001b[1;33m \u001b[0mmodel\u001b[0m\u001b[1;33m.\u001b[0m\u001b[0msave\u001b[0m\u001b[1;33m(\u001b[0m\u001b[1;34m'JS_CNN_0805_15Epoc.md'\u001b[0m\u001b[1;33m)\u001b[0m\u001b[1;33m\u001b[0m\u001b[1;33m\u001b[0m\u001b[0m\n\u001b[0m",
      "\u001b[1;31mNameError\u001b[0m: name 'model' is not defined"
     ]
    }
   ],
   "source": [
    "model.save('JS_CNN_0805_15Epoc.md')"
   ]
  },
  {
   "cell_type": "code",
   "execution_count": 40,
   "metadata": {},
   "outputs": [],
   "source": [
    "from pathlib import Path\n",
    "input_dir = Path('test/OutText/virus')\n",
    "data_files = input_dir.glob('**/*.asm')\n",
    "data_total = []\n",
    "label_total = []\n",
    "a=0\n",
    "b=0\n",
    "i=0\n",
    "for file in data_files:\n",
    "    with open(file, 'r') as f:\n",
    "        data = f.read().replace('\\x00','').lower()\n",
    "        data_total.append(data)\n",
    "        X_sample = tokenizer.texts_to_sequences(data_total)\n",
    "        X_sample = pad_sequences(X_sample, padding='post', maxlen=200000)\n",
    "        y_sample = model_load.predict(X_sample)\n",
    "        if y_sample[0][0]>y_sample[0][1]:\n",
    "            a+=1\n",
    "        else:\n",
    "            b+=1\n",
    "        data_total = []"
   ]
  },
  {
   "cell_type": "code",
   "execution_count": 41,
   "metadata": {},
   "outputs": [
    {
     "data": {
      "text/plain": [
       "5"
      ]
     },
     "execution_count": 41,
     "metadata": {},
     "output_type": "execute_result"
    }
   ],
   "source": [
    "a"
   ]
  },
  {
   "cell_type": "code",
   "execution_count": 42,
   "metadata": {},
   "outputs": [
    {
     "data": {
      "text/plain": [
       "981"
      ]
     },
     "execution_count": 42,
     "metadata": {},
     "output_type": "execute_result"
    }
   ],
   "source": [
    "b"
   ]
  },
  {
   "cell_type": "markdown",
   "metadata": {},
   "source": [
    "## Bắt đầu test từ đây"
   ]
  },
  {
   "cell_type": "code",
   "execution_count": 25,
   "metadata": {},
   "outputs": [],
   "source": [
    "from pathlib import Path\n",
    "input_dir = Path(\"H:/DoAnTotNghiep/DAMH/data_crawl/tap_test_virus/res\")\n",
    "data_files = input_dir.glob('*')\n",
    "data_total = []\n",
    "label_total = []\n",
    "\n",
    "# them vao mang luu ten de tim mau nhan nham\n",
    "file_names = []\n",
    "\n",
    "a=0\n",
    "b=0\n",
    "i=0\n",
    "for file in data_files:\n",
    "    file_names.append(file)\n",
    "    with open(file, 'r') as f:\n",
    "        data = f.read().replace('\\x00','').lower()\n",
    "        data_total.append(data)\n",
    "    i+=1"
   ]
  },
  {
   "cell_type": "code",
   "execution_count": 26,
   "metadata": {},
   "outputs": [
    {
     "data": {
      "text/plain": [
       "2122"
      ]
     },
     "execution_count": 26,
     "metadata": {},
     "output_type": "execute_result"
    }
   ],
   "source": [
    "len(data_total)"
   ]
  },
  {
   "cell_type": "code",
   "execution_count": 11,
   "metadata": {},
   "outputs": [
    {
     "name": "stdout",
     "output_type": "stream",
     "text": [
      "WARNING:tensorflow:From d:\\anaconda3\\envs\\tensorflow-gpu\\lib\\site-packages\\tensorflow_core\\python\\ops\\resource_variable_ops.py:1630: calling BaseResourceVariable.__init__ (from tensorflow.python.ops.resource_variable_ops) with constraint is deprecated and will be removed in a future version.\n",
      "Instructions for updating:\n",
      "If using Keras pass *_constraint arguments to layers.\n",
      "WARNING:tensorflow:From d:\\anaconda3\\envs\\tensorflow-gpu\\lib\\site-packages\\tensorflow_core\\python\\ops\\nn_impl.py:183: where (from tensorflow.python.ops.array_ops) is deprecated and will be removed in a future version.\n",
      "Instructions for updating:\n",
      "Use tf.where in 2.0, which has the same broadcast rule as np.where\n",
      "WARNING:tensorflow:From d:\\anaconda3\\envs\\tensorflow-gpu\\lib\\site-packages\\keras\\backend\\tensorflow_backend.py:422: The name tf.global_variables is deprecated. Please use tf.compat.v1.global_variables instead.\n",
      "\n"
     ]
    }
   ],
   "source": [
    "from keras.models import load_model\n",
    "model_load = load_model('JS_CNN_0805_15Epoc.md')"
   ]
  },
  {
   "cell_type": "code",
   "execution_count": 12,
   "metadata": {},
   "outputs": [],
   "source": [
    "X_sample = tokenizer.texts_to_sequences(data_total)\n",
    "X_sample = pad_sequences(X_sample, padding='post', maxlen=20000)\n",
    "\n",
    "\n",
    "\n"
   ]
  },
  {
   "cell_type": "code",
   "execution_count": 23,
   "metadata": {},
   "outputs": [
    {
     "data": {
      "text/plain": [
       "array([[ 20,   6, 628, ...,   0,   0,   0],\n",
       "       [ 11,  15,   8, ...,   0,   0,   0],\n",
       "       [ 25,   6, 659, ...,   0,   0,   0],\n",
       "       ...,\n",
       "       [ 20,   8,   3, ...,   0,   0,   0],\n",
       "       [ 15,   8,  22, ...,   0,   0,   0],\n",
       "       [ 15,   8,   4, ...,   0,   0,   0]])"
      ]
     },
     "execution_count": 23,
     "metadata": {},
     "output_type": "execute_result"
    }
   ],
   "source": [
    "X_sample"
   ]
  },
  {
   "cell_type": "code",
   "execution_count": 14,
   "metadata": {},
   "outputs": [],
   "source": [
    "y_sample = model_load.predict(X_sample)"
   ]
  },
  {
   "cell_type": "code",
   "execution_count": 20,
   "metadata": {},
   "outputs": [
    {
     "data": {
      "text/plain": [
       "array([[6.2584877e-07, 9.9999952e-01],\n",
       "       [2.7030706e-05, 9.9997580e-01],\n",
       "       [0.0000000e+00, 1.0000000e+00],\n",
       "       ...,\n",
       "       [2.3841858e-07, 9.9999976e-01],\n",
       "       [0.0000000e+00, 1.0000000e+00],\n",
       "       [1.1404058e-04, 9.9989498e-01]], dtype=float32)"
      ]
     },
     "execution_count": 20,
     "metadata": {},
     "output_type": "execute_result"
    }
   ],
   "source": [
    "y_sample\n"
   ]
  },
  {
   "cell_type": "code",
   "execution_count": 27,
   "metadata": {},
   "outputs": [
    {
     "data": {
      "text/plain": [
       "0.999995"
      ]
     },
     "execution_count": 27,
     "metadata": {},
     "output_type": "execute_result"
    }
   ],
   "source": [
    "y_sample[0][0]"
   ]
  },
  {
   "cell_type": "code",
   "execution_count": 27,
   "metadata": {},
   "outputs": [
    {
     "name": "stdout",
     "output_type": "stream",
     "text": [
      "5 H:\\DoAnTotNghiep\\DAMH\\data_crawl\\tap_test_virus\\res\\static_0031f0c0e3a4c4a44ca7db79c1cd0587c3ab4cf1e16402613399673f0e967090\n",
      "14 H:\\DoAnTotNghiep\\DAMH\\data_crawl\\tap_test_virus\\res\\static_00766f24eb8521bcbf4357c77b5dcaf4a43c5346d98b4b4fea49f13cf2d88087\n",
      "20 H:\\DoAnTotNghiep\\DAMH\\data_crawl\\tap_test_virus\\res\\static_00a2f1e4f098d807a29de0a9d825dd951da3d02bec9f873523be99bdd4a4e574\n",
      "36 H:\\DoAnTotNghiep\\DAMH\\data_crawl\\tap_test_virus\\res\\static_014284e544415350fda4ece23ee57e25a2728cadff487f31107474d6a5fe8e9b\n",
      "41 H:\\DoAnTotNghiep\\DAMH\\data_crawl\\tap_test_virus\\res\\static_017ba30cb64aa42b52e267a9f7c9e4ce0e3f74c2fe8268481c5432742e4c3419\n",
      "50 H:\\DoAnTotNghiep\\DAMH\\data_crawl\\tap_test_virus\\res\\static_01dc50cd3274905663fad0ebad59490f0701586a7505c76cdd71b7a9272bea32\n",
      "63 H:\\DoAnTotNghiep\\DAMH\\data_crawl\\tap_test_virus\\res\\static_0268197d39e1f00dc5ba2e20cf7f9f620f021194b49e5c1b38a2cba50863a56e\n",
      "68 H:\\DoAnTotNghiep\\DAMH\\data_crawl\\tap_test_virus\\res\\static_02a862a61dd0238b07c06e13ac06f4e13e3d91b35d59d8ad9aa169739438c745\n",
      "72 H:\\DoAnTotNghiep\\DAMH\\data_crawl\\tap_test_virus\\res\\static_02d32f6e99f1cbf015c8debba7174d68ab057e1175b787bb89b8ad86258eb437\n",
      "79 H:\\DoAnTotNghiep\\DAMH\\data_crawl\\tap_test_virus\\res\\static_0310010a3b9f8510067a5a286bb62b80e008519ef9d3b09cd69063772cd6eca5\n",
      "84 H:\\DoAnTotNghiep\\DAMH\\data_crawl\\tap_test_virus\\res\\static_03571693645ff1f2b2bf934a239ab23fb180e552f41526dfdbe6e437d973b518\n",
      "114 H:\\DoAnTotNghiep\\DAMH\\data_crawl\\tap_test_virus\\res\\static_05307dc31938db96fa37ee646cec645b90deab12dc3cf4ac286a7b02235a374e\n",
      "141 H:\\DoAnTotNghiep\\DAMH\\data_crawl\\tap_test_virus\\res\\static_06f654231f16fb5ad4491a9e750979a3e12398638aa557edae5e6770197ddf83\n",
      "146 H:\\DoAnTotNghiep\\DAMH\\data_crawl\\tap_test_virus\\res\\static_0764ac3f67c3e4db24c95ee1cb7dc39e618f6819c5c0d802db804a3973ff5abe\n",
      "170 H:\\DoAnTotNghiep\\DAMH\\data_crawl\\tap_test_virus\\res\\static_0994c96d8fef7ce0b86a26427208fdfb2dd0566006c312ebc874dd571faee353\n",
      "186 H:\\DoAnTotNghiep\\DAMH\\data_crawl\\tap_test_virus\\res\\static_0af224906c90283dc99b4b28aff29aceac6799c86ceab34237b41582567901ba\n",
      "197 H:\\DoAnTotNghiep\\DAMH\\data_crawl\\tap_test_virus\\res\\static_0c1b2473063d447d3ad17530dc847a10c52d2bb6abc920df788b36a9543861bb\n",
      "202 H:\\DoAnTotNghiep\\DAMH\\data_crawl\\tap_test_virus\\res\\static_0c6d4fb93ad7c4b0a0b16b57aceb50c9de4209529131acd220bdc00c139615ba\n",
      "205 H:\\DoAnTotNghiep\\DAMH\\data_crawl\\tap_test_virus\\res\\static_0c9e87072800563e61edd1036b63f10daebc1002b35733b6d6d139e93da2d0f0\n",
      "222 H:\\DoAnTotNghiep\\DAMH\\data_crawl\\tap_test_virus\\res\\static_0dec1e61638767c4b38bbb286c6082b12ec26e223d226b8d9cccab3116692cc8\n",
      "230 H:\\DoAnTotNghiep\\DAMH\\data_crawl\\tap_test_virus\\res\\static_0ea213dffcba468d5e62b6b3d009d1ce92649bc6f05c73976a736a527c3d0fe0\n",
      "255 H:\\DoAnTotNghiep\\DAMH\\data_crawl\\tap_test_virus\\res\\static_10a922000c6341ee2b39663c174e1a23a13c44e7a38b4d5509b7eaa4ee1105d0\n",
      "259 H:\\DoAnTotNghiep\\DAMH\\data_crawl\\tap_test_virus\\res\\static_10e56f049afab3716fce98136822f1e0045e5e3e256eaf492e863844d8ca1e54\n",
      "271 H:\\DoAnTotNghiep\\DAMH\\data_crawl\\tap_test_virus\\res\\static_11e074c7b3ca4551ace8cd179d15b00760f353c6cd63afe060719d5c861a1cc2\n",
      "282 H:\\DoAnTotNghiep\\DAMH\\data_crawl\\tap_test_virus\\res\\static_12fc11c3815c6c4b5fa434cd29b5a109729acaa2d4f4d39b18b03ff75002c5b3\n",
      "298 H:\\DoAnTotNghiep\\DAMH\\data_crawl\\tap_test_virus\\res\\static_14cf07141946eb5f806dceac9b919ec8d0c4ee01034c22c3c7250720619e9a38\n",
      "310 H:\\DoAnTotNghiep\\DAMH\\data_crawl\\tap_test_virus\\res\\static_15c0a71adc1202a764d61f03a6d128e1509cecfb58bfccd414013c697d77e9cc\n",
      "317 H:\\DoAnTotNghiep\\DAMH\\data_crawl\\tap_test_virus\\res\\static_167c7300baac037ce25583362e377c18be4c80373a5ead9bfafd5a656baca8ee\n",
      "338 H:\\DoAnTotNghiep\\DAMH\\data_crawl\\tap_test_virus\\res\\static_17eaaabc71632fce6555b18e3de886c04f88676bafee2b9cdcc67564cd3a57e9\n",
      "343 H:\\DoAnTotNghiep\\DAMH\\data_crawl\\tap_test_virus\\res\\static_18c719399550f0f1fde5e9a98496c78e0eaa83aed80442c3b9690ccae8563cf0\n",
      "353 H:\\DoAnTotNghiep\\DAMH\\data_crawl\\tap_test_virus\\res\\static_1a358c4c728b129a277beed3d61d42635491e0a1ce3dd7ed8946938ae406ac3c\n",
      "361 H:\\DoAnTotNghiep\\DAMH\\data_crawl\\tap_test_virus\\res\\static_1ae66a3555a0c2eb8998d99a33d6105d722d0ee8d6db931dd8ee0d8ffd8611f4\n",
      "372 H:\\DoAnTotNghiep\\DAMH\\data_crawl\\tap_test_virus\\res\\static_1c2d8f94ad99202f0ef5e9c3d501f2be330daf18e8cd35808e750597a135b2dc\n",
      "378 H:\\DoAnTotNghiep\\DAMH\\data_crawl\\tap_test_virus\\res\\static_1cbadfa2fdba30c80e9a9cbb90fc37eadc14f2676a8f4790d2c5b80b7af04cc2\n",
      "382 H:\\DoAnTotNghiep\\DAMH\\data_crawl\\tap_test_virus\\res\\static_1cdb45d2bcd19f0d5542f7a65958699a22b6562f90c91d3eb981a806122dff85\n",
      "387 H:\\DoAnTotNghiep\\DAMH\\data_crawl\\tap_test_virus\\res\\static_1d612a547bfa991b932f27221592bd6ad96f99fa9738072c3f20ac3841fe72ca\n",
      "396 H:\\DoAnTotNghiep\\DAMH\\data_crawl\\tap_test_virus\\res\\static_1df266dba7266480a2b6529dfa39656746ebdd7c8cd1fe68d9d5a29f5c5c10cf\n",
      "403 H:\\DoAnTotNghiep\\DAMH\\data_crawl\\tap_test_virus\\res\\static_1e7e98df3e61b52e6e06724ebe3f3cbeb1311f3c5f438796324376d3f90a8f2b\n",
      "410 H:\\DoAnTotNghiep\\DAMH\\data_crawl\\tap_test_virus\\res\\static_1eefe732f16cc2639acc6848fdc1e34936c5fbb8e1746828b26b178d75385a5d\n",
      "420 H:\\DoAnTotNghiep\\DAMH\\data_crawl\\tap_test_virus\\res\\static_1fc52f85f767690bc723616b1a41e66913804aabdc2690a2130d9e5bd8eb7232\n",
      "430 H:\\DoAnTotNghiep\\DAMH\\data_crawl\\tap_test_virus\\res\\static_20989bd61446def15c1ecd31d3386f7baf8955838eac72844d80d3f59d5c29eb\n",
      "434 H:\\DoAnTotNghiep\\DAMH\\data_crawl\\tap_test_virus\\res\\static_2102ca78e39396a08ed2d778db4216582317778aa6c4e9c3bc5760375046ee4f\n",
      "443 H:\\DoAnTotNghiep\\DAMH\\data_crawl\\tap_test_virus\\res\\static_219afd226cd882e9c728afa7457936e3a4a583f399f5ef8590fd3ee6917de5cd\n",
      "461 H:\\DoAnTotNghiep\\DAMH\\data_crawl\\tap_test_virus\\res\\static_236663be40740e2de59fa149d209b12e5ef18360bd9dab7887c047942f9d1744\n",
      "472 H:\\DoAnTotNghiep\\DAMH\\data_crawl\\tap_test_virus\\res\\static_2417c5336c15dd067402f13d51b791295b2cce99677ac75318c95d2130458eac\n",
      "483 H:\\DoAnTotNghiep\\DAMH\\data_crawl\\tap_test_virus\\res\\static_24adcedc38c8b7ce27a0d1daf77f16b4bbf4c27fb4931d0254a4d8acd161db80\n",
      "488 H:\\DoAnTotNghiep\\DAMH\\data_crawl\\tap_test_virus\\res\\static_254217cd091973a1673bd9f8547945c188f19c81cb7b1f69b25dfba86e15ba93\n",
      "501 H:\\DoAnTotNghiep\\DAMH\\data_crawl\\tap_test_virus\\res\\static_267ddcc33afc3a5b31709ea923de03cca436f73ecf60025abcb21cd64c754b79\n",
      "505 H:\\DoAnTotNghiep\\DAMH\\data_crawl\\tap_test_virus\\res\\static_26bfa00847cce95e62c3bb88a53f13b138cb67aeef557150cbaf14294b96f175\n",
      "517 H:\\DoAnTotNghiep\\DAMH\\data_crawl\\tap_test_virus\\res\\static_278a2b552969771fd220231c2dff61d9ffeefe08b3456d36e113ce5bb7841216\n",
      "544 H:\\DoAnTotNghiep\\DAMH\\data_crawl\\tap_test_virus\\res\\static_2a04beba6acd5e79b2634d245e04bec96125b239385ec2769e5c4512b7af5b7b\n",
      "547 H:\\DoAnTotNghiep\\DAMH\\data_crawl\\tap_test_virus\\res\\static_2a174ddb670e7db0e9dcde7dc75f2b1b138a1f3713b61230b411684cbb742af4\n",
      "584 H:\\DoAnTotNghiep\\DAMH\\data_crawl\\tap_test_virus\\res\\static_2e475625655efd56e4a0be5de6598ffe0ca9039262bbe439c75fbfa0a854f51a\n",
      "590 H:\\DoAnTotNghiep\\DAMH\\data_crawl\\tap_test_virus\\res\\static_2ed0b6e527d7ba1d3951aee7aec89806cafc8ea2315b9cb442ceb3b84a00b26e\n",
      "609 H:\\DoAnTotNghiep\\DAMH\\data_crawl\\tap_test_virus\\res\\static_301066067241ca41c05a18676e66ee5b821a6d4f18125ca55c373f21928080b4\n",
      "614 H:\\DoAnTotNghiep\\DAMH\\data_crawl\\tap_test_virus\\res\\static_306b33039fe395e8438011d7a473de3862b4e184e5f9ffdc521574a7c7e7256a\n",
      "621 H:\\DoAnTotNghiep\\DAMH\\data_crawl\\tap_test_virus\\res\\static_30e5ecf504a47ded32b8d5ada06a89def014f07ffc3df7d79cc67b8eb680a4f0\n",
      "626 H:\\DoAnTotNghiep\\DAMH\\data_crawl\\tap_test_virus\\res\\static_3185806b83bcf71d0d965f337249a33a4220224eae1e52130562cf2a1bd846f9\n",
      "633 H:\\DoAnTotNghiep\\DAMH\\data_crawl\\tap_test_virus\\res\\static_3341cf04f90190f44a6c5296cfa52e7aab145d02410276a2b2a5a564d543437e\n",
      "645 H:\\DoAnTotNghiep\\DAMH\\data_crawl\\tap_test_virus\\res\\static_347185f9e12f8e8906cc58b7043f1732d449b9a356a1c2a914491167154beae5\n",
      "656 H:\\DoAnTotNghiep\\DAMH\\data_crawl\\tap_test_virus\\res\\static_35111bcdc027b320069485ca1951e40d635af84148cfbda287919fc364729bdb\n",
      "662 H:\\DoAnTotNghiep\\DAMH\\data_crawl\\tap_test_virus\\res\\static_365bbcbbc29ea76377d88d7a3d86244048394140c0b8bcd16fb3d614b7617523\n",
      "666 H:\\DoAnTotNghiep\\DAMH\\data_crawl\\tap_test_virus\\res\\static_3741590bd1a264e912f436175e72767d96e977e6522f840e2b4ea1dc7549d67e\n",
      "679 H:\\DoAnTotNghiep\\DAMH\\data_crawl\\tap_test_virus\\res\\static_390a735e951f9d5b20e7c17f0e7581ec8d8ee81bc5ad39323bc77a439aeeb826\n",
      "681 H:\\DoAnTotNghiep\\DAMH\\data_crawl\\tap_test_virus\\res\\static_3934d70dbc2d5fc8712b23a7315dbaa3ae5938fd078d9f4952595e4c8e3b608c\n",
      "693 H:\\DoAnTotNghiep\\DAMH\\data_crawl\\tap_test_virus\\res\\static_3a8071f670a428c69c41c2e66830d650e976e8dd6b11500e9253c060979ff6ef\n",
      "696 H:\\DoAnTotNghiep\\DAMH\\data_crawl\\tap_test_virus\\res\\static_3aa174ebef777aacd14a490b87910827bc47fb9eef236926bdaca8e1a25fb57d\n",
      "715 H:\\DoAnTotNghiep\\DAMH\\data_crawl\\tap_test_virus\\res\\static_3cf8a49d314d0fdb1cf8997d64a8b907b00e5e3290980560b35425b784f6c268\n",
      "717 H:\\DoAnTotNghiep\\DAMH\\data_crawl\\tap_test_virus\\res\\static_3d083f10e9a795f1a6a34ba855f81878e1f2047fefe87f70f5b6c6b4faa5d29b\n",
      "747 H:\\DoAnTotNghiep\\DAMH\\data_crawl\\tap_test_virus\\res\\static_412bce80e52437a582c231ce9989ef0810729f3416167173363987d061c1d810\n",
      "764 H:\\DoAnTotNghiep\\DAMH\\data_crawl\\tap_test_virus\\res\\static_4347946a4cf3f2f2b554112178506fdd1ac65c5064f73673e8360cc6406a718b\n",
      "775 H:\\DoAnTotNghiep\\DAMH\\data_crawl\\tap_test_virus\\res\\static_442e085d0d0b6a789df8903a445f4ec771e0c1ffa958182317fd8c152e59d8ea\n",
      "786 H:\\DoAnTotNghiep\\DAMH\\data_crawl\\tap_test_virus\\res\\static_450287c2d7b112440282e971a051874d2622099e1bfe48035f047e4dadf631bc\n",
      "797 H:\\DoAnTotNghiep\\DAMH\\data_crawl\\tap_test_virus\\res\\static_4674745da72fbfcb2f6c8a8ab4d9852c5a5c0834f8ca39313c129d4c4e2c77d6\n",
      "860 H:\\DoAnTotNghiep\\DAMH\\data_crawl\\tap_test_virus\\res\\static_4ca4e0362fd009ec7a6e5361d9268b0657261a89d8a15c44cd7743fbca17c8ff\n",
      "872 H:\\DoAnTotNghiep\\DAMH\\data_crawl\\tap_test_virus\\res\\static_4e650e55a046c8f012efbcdb5164979b719d20d493851d6b3b3812722201e552\n",
      "887 H:\\DoAnTotNghiep\\DAMH\\data_crawl\\tap_test_virus\\res\\static_50e71c8245d9612971d6311ff03083ff70236617366019000dc1f7e79349ca69\n",
      "896 H:\\DoAnTotNghiep\\DAMH\\data_crawl\\tap_test_virus\\res\\static_51e017d0eca879e40aa22bbb15756a518200f05842640a938ca8ceeddc3d1481\n",
      "899 H:\\DoAnTotNghiep\\DAMH\\data_crawl\\tap_test_virus\\res\\static_51ff1bef85e4ff061471e11fce4355ab2e785b7953d5d034a9372c680c83fa45\n",
      "900 H:\\DoAnTotNghiep\\DAMH\\data_crawl\\tap_test_virus\\res\\static_523717d6e367363cfd166dc152278ca3e414601cb53906886afd7437e9d6ad24\n",
      "901 H:\\DoAnTotNghiep\\DAMH\\data_crawl\\tap_test_virus\\res\\static_524b57b7e88c665a93ae51dd4ab14be8061f924cf9d2f1a2764046b83be9b454\n",
      "913 H:\\DoAnTotNghiep\\DAMH\\data_crawl\\tap_test_virus\\res\\static_544d34a2b369d16c1542481fd3bc05a02e367064aa2d00cc2fbf4753951bd27c\n",
      "914 H:\\DoAnTotNghiep\\DAMH\\data_crawl\\tap_test_virus\\res\\static_54b081395ae5213ba676a525276242cab87d2dd240e830d69f873e368bfad3c8\n",
      "945 H:\\DoAnTotNghiep\\DAMH\\data_crawl\\tap_test_virus\\res\\static_599ea9299ce180113daa5e69d899368a13d689ff706dffada5bb0fbbdbb2eb1e\n",
      "950 H:\\DoAnTotNghiep\\DAMH\\data_crawl\\tap_test_virus\\res\\static_5a1613d8d5d9ff3f10d3a3fbf4eaed8b343f4b5efa2a018cc42803570e3008b7\n",
      "1017 H:\\DoAnTotNghiep\\DAMH\\data_crawl\\tap_test_virus\\res\\static_6201c164e0e4802086255f9e3a0d5bd7720e3468f887a61e4b875d22ca13a7f3\n",
      "1038 H:\\DoAnTotNghiep\\DAMH\\data_crawl\\tap_test_virus\\res\\static_644ebee739672f32c69eca9705d41ab84726e8da3b9c4e1cbb92b5b9f79a07e8\n",
      "1101 H:\\DoAnTotNghiep\\DAMH\\data_crawl\\tap_test_virus\\res\\static_6c9446ce9a2c07b89561ad0426c80225068528175204507ca9d563fa85e07afa\n",
      "1129 H:\\DoAnTotNghiep\\DAMH\\data_crawl\\tap_test_virus\\res\\static_70a77767422ab40b7ac8a069f808c9cf0caa487e4b0f8b420e3d3af47ccccbdd\n",
      "1159 H:\\DoAnTotNghiep\\DAMH\\data_crawl\\tap_test_virus\\res\\static_7417c5cc573b02e0b16bfcf8ddaa43861c9b69d861b025562b4d388c1b24f729\n",
      "1178 H:\\DoAnTotNghiep\\DAMH\\data_crawl\\tap_test_virus\\res\\static_77c77e20ff8428d02484cda74456b0897be6261fb091969fb78865c7753f48e9\n",
      "1227 H:\\DoAnTotNghiep\\DAMH\\data_crawl\\tap_test_virus\\res\\static_7f3893f285807329312187fba913c464733345ee3bdf233eafa595408f7472d8\n",
      "1259 H:\\DoAnTotNghiep\\DAMH\\data_crawl\\tap_test_virus\\res\\static_8445de6b986b8b1dff9c834b48ef6ed09c5709b5bc8250055168f0d8122c36f5\n",
      "1279 H:\\DoAnTotNghiep\\DAMH\\data_crawl\\tap_test_virus\\res\\static_86d611acf0550a7d5ea4b951b4d424867c678dc297e18ee78f384eada92a54bf\n",
      "1289 H:\\DoAnTotNghiep\\DAMH\\data_crawl\\tap_test_virus\\res\\static_8830dfb26b48264c9fe9e357f75e1d8af2358048f4e0a8e2b8358a1fbdefdcc5\n",
      "1290 H:\\DoAnTotNghiep\\DAMH\\data_crawl\\tap_test_virus\\res\\static_887042f14b7e4bd686a332f8ba07cf4144ab989f4e19a60313b230d465b8750f\n",
      "1296 H:\\DoAnTotNghiep\\DAMH\\data_crawl\\tap_test_virus\\res\\static_88e6a1194f797a6291b8150affe95d123829f17ec51f8c3750c42cc59ba7ed8a\n",
      "1307 H:\\DoAnTotNghiep\\DAMH\\data_crawl\\tap_test_virus\\res\\static_8a116acc20358b9d8547ef0f7ac64af7caeff926dbdf861f572d5bfb5ee9c610\n",
      "1315 H:\\DoAnTotNghiep\\DAMH\\data_crawl\\tap_test_virus\\res\\static_8bab8eb354662f8073f35626cd186b813511cb2a99db1dbbcb894f41c07f367d\n",
      "1322 H:\\DoAnTotNghiep\\DAMH\\data_crawl\\tap_test_virus\\res\\static_8c6a620bd8f7fb0832df6721e343cddd6822eef5367d9a62609744d2253a69c6\n",
      "1324 H:\\DoAnTotNghiep\\DAMH\\data_crawl\\tap_test_virus\\res\\static_8c9e5ba3c8f33639b434b0d1b7bc3f8bc1829b132be9710a18f8597d639c22c7\n",
      "1328 H:\\DoAnTotNghiep\\DAMH\\data_crawl\\tap_test_virus\\res\\static_8d1bb94533a064d6b980ffb6c09517a4283a009475bc6e9481bae8ea83157b7e\n",
      "1332 H:\\DoAnTotNghiep\\DAMH\\data_crawl\\tap_test_virus\\res\\static_8d75a411fea2c9645c56ea5b6bea80c74f90836ce27b357059aae543d0a4d966\n",
      "1343 H:\\DoAnTotNghiep\\DAMH\\data_crawl\\tap_test_virus\\res\\static_8ea2081dba30a1fbd4299674eabd6c2b5ac57605ad602751e3855a487749e8ab\n",
      "1398 H:\\DoAnTotNghiep\\DAMH\\data_crawl\\tap_test_virus\\res\\static_966285fd153ebb6fdc93d9fbc2398308edab442453ea6198eed5dd6feeaf6f77\n",
      "1416 H:\\DoAnTotNghiep\\DAMH\\data_crawl\\tap_test_virus\\res\\static_9a2171dfd93093f9ada4ed81668481de4882a22fcf4f7c4bdd8a85223b824f3a\n",
      "1429 H:\\DoAnTotNghiep\\DAMH\\data_crawl\\tap_test_virus\\res\\static_9c5518814d6e98156de610ce342cc00331d39e9ed264373e5653a5b7750c8b8b\n",
      "1442 H:\\DoAnTotNghiep\\DAMH\\data_crawl\\tap_test_virus\\res\\static_9dbb2ad33281f2e8bd8ed75b8d532767fcea66c8efe0ef005e1138f13fc32e30\n",
      "1470 H:\\DoAnTotNghiep\\DAMH\\data_crawl\\tap_test_virus\\res\\static_a19c7cccd717f8fa87c7f9230112c0230705f0614e06f25e0ff54e915474fd1f\n",
      "1489 H:\\DoAnTotNghiep\\DAMH\\data_crawl\\tap_test_virus\\res\\static_a40d86c1b5ba62d5025604754d96fdd86cf8dc5c2e5ddea82ea1b5038d65023a\n",
      "1508 H:\\DoAnTotNghiep\\DAMH\\data_crawl\\tap_test_virus\\res\\static_a8bc487cdc79b36d6a76b7916e8a5e9eb298c0bb9eb4844021c143f20825f3bb\n",
      "1584 H:\\DoAnTotNghiep\\DAMH\\data_crawl\\tap_test_virus\\res\\static_b434c5806af69f2bd29bc648a955588a207b8baad14c755ea971df66b998a6d8\n",
      "1617 H:\\DoAnTotNghiep\\DAMH\\data_crawl\\tap_test_virus\\res\\static_b8c2f68f9c5eae8ebbe91dcdc664785e73a541b76c0413c6fdaf6fc23b06044c\n",
      "1657 H:\\DoAnTotNghiep\\DAMH\\data_crawl\\tap_test_virus\\res\\static_bf61af3b09c9800bcb376ea93beafd5d1b93dc4e83f638a8ad1136572c8c8c99\n",
      "1691 H:\\DoAnTotNghiep\\DAMH\\data_crawl\\tap_test_virus\\res\\static_c58683e04b028fb1e9c7b1ce301358dcb06e7c4d2598f04d443a510e09e00fc5\n",
      "1692 H:\\DoAnTotNghiep\\DAMH\\data_crawl\\tap_test_virus\\res\\static_c5ac581cdc938874267d3b8ddca532747da09af681b9dc0aa3690f993ab2d5c6\n",
      "1702 H:\\DoAnTotNghiep\\DAMH\\data_crawl\\tap_test_virus\\res\\static_c6b9433845d5b94d7c785cd49e5364ab86d7fda0cfb92bd60a7a2864e55e3faa\n",
      "1736 H:\\DoAnTotNghiep\\DAMH\\data_crawl\\tap_test_virus\\res\\static_cb77e0bd9633bed4d85486a4575e30ca99c0832ddb0f7aeee009e21c851e0cfd\n",
      "1750 H:\\DoAnTotNghiep\\DAMH\\data_crawl\\tap_test_virus\\res\\static_cd0066a14d7c5c793bd31f7ece847fa815b6fd2a983f9dd0276295d7ec93787d\n",
      "1796 H:\\DoAnTotNghiep\\DAMH\\data_crawl\\tap_test_virus\\res\\static_d4a21b2b487a0589c329eb4da500034b720e435594e1612221f51821b328be8c\n",
      "1805 H:\\DoAnTotNghiep\\DAMH\\data_crawl\\tap_test_virus\\res\\static_d5f02c661f81f34b20023874f6dcccad78b69243d8f516495be72a3bc293075b\n",
      "1870 H:\\DoAnTotNghiep\\DAMH\\data_crawl\\tap_test_virus\\res\\static_de49d1bafa299db8d4fa9ebe328fd164cd6e07ee1a6c2d3005b9b89ded87ba35\n",
      "1908 H:\\DoAnTotNghiep\\DAMH\\data_crawl\\tap_test_virus\\res\\static_e596e47f1ab6eaa008c0c1e01820b0f0f41054620f7767ad8956ce88cbaaaf43\n",
      "1947 H:\\DoAnTotNghiep\\DAMH\\data_crawl\\tap_test_virus\\res\\static_e9c718ccd6a9fd740a1122e89a346f819d32a0e4e0ba87e20e86914251234937\n",
      "2022 H:\\DoAnTotNghiep\\DAMH\\data_crawl\\tap_test_virus\\res\\static_f33aaf204fbb6dc4fca7d3d6dd9ae69d5736297443e810169d4e7256a4b70fc0\n",
      "2027 H:\\DoAnTotNghiep\\DAMH\\data_crawl\\tap_test_virus\\res\\static_f39c0d82885ed2079b6349ef7d03ffbcdc263de259da189783f5c790e768ec31\n",
      "2051 H:\\DoAnTotNghiep\\DAMH\\data_crawl\\tap_test_virus\\res\\static_f685ae729bc3c212d05e10efb135eeca20458da6dc71b70f5448a3bb5d44e83e\n",
      "2076 H:\\DoAnTotNghiep\\DAMH\\data_crawl\\tap_test_virus\\res\\static_f93ef8f19abe4922cbadd3253a4f8a126f4af242f9f47f5121b54b7d83a331b4\n"
     ]
    }
   ],
   "source": [
    "a=0\n",
    "b=0\n",
    "for x in range(len(y_sample)):\n",
    "    if y_sample[x][0]>y_sample[x][1]:\n",
    "        a+=1\n",
    "        print(x, file_names[x])\n",
    "    else:\n",
    "        b+=1\n",
    "        "
   ]
  },
  {
   "cell_type": "code",
   "execution_count": 22,
   "metadata": {},
   "outputs": [
    {
     "data": {
      "text/plain": [
       "128"
      ]
     },
     "execution_count": 22,
     "metadata": {},
     "output_type": "execute_result"
    }
   ],
   "source": [
    "a"
   ]
  },
  {
   "cell_type": "markdown",
   "metadata": {},
   "source": [
    "## Check mẫu nhận nhầm"
   ]
  },
  {
   "cell_type": "code",
   "execution_count": 29,
   "metadata": {},
   "outputs": [],
   "source": [
    "from pathlib import Path\n",
    "input_dir = Path('C:\\\\Users\\\\sontdc\\\\Desktop\\\\virus_nham')\n",
    "data_files = input_dir.glob('*')\n",
    "data_total = []\n",
    "label_total = []\n",
    "\n",
    "# them vao mang luu ten de tim mau nhan nham\n",
    "file_names = []\n",
    "\n",
    "a=0\n",
    "b=0\n",
    "i=0\n",
    "for file in data_files:\n",
    "    file_names.append(file)\n",
    "    with open(file, 'r') as f:\n",
    "        data = f.read().replace('\\x00','').lower()\n",
    "        data_total.append(data)\n",
    "    i+=1"
   ]
  },
  {
   "cell_type": "code",
   "execution_count": 30,
   "metadata": {},
   "outputs": [],
   "source": [
    "X_sample = tokenizer.texts_to_sequences(data_total)\n",
    "X_sample = pad_sequences(X_sample, padding='post', maxlen=20000)"
   ]
  },
  {
   "cell_type": "code",
   "execution_count": 31,
   "metadata": {},
   "outputs": [],
   "source": [
    "y_sample = model_load.predict(X_sample)"
   ]
  },
  {
   "cell_type": "code",
   "execution_count": 32,
   "metadata": {},
   "outputs": [],
   "source": [
    "a=0\n",
    "b=0\n",
    "for x in range(len(y_sample)):\n",
    "    if y_sample[x][0]>y_sample[x][1]:\n",
    "        a+=1\n",
    "#         print(x, file_names[x])\n",
    "    else:\n",
    "        b+=1"
   ]
  },
  {
   "cell_type": "code",
   "execution_count": 33,
   "metadata": {},
   "outputs": [
    {
     "data": {
      "text/plain": [
       "6"
      ]
     },
     "execution_count": 33,
     "metadata": {},
     "output_type": "execute_result"
    }
   ],
   "source": [
    "a"
   ]
  },
  {
   "cell_type": "markdown",
   "metadata": {},
   "source": [
    "# Đồ thị hóa quá trình huấn luyện"
   ]
  },
  {
   "cell_type": "code",
   "execution_count": 22,
   "metadata": {},
   "outputs": [
    {
     "ename": "NameError",
     "evalue": "name 'history' is not defined",
     "output_type": "error",
     "traceback": [
      "\u001b[1;31m---------------------------------------------------------------------------\u001b[0m",
      "\u001b[1;31mNameError\u001b[0m                                 Traceback (most recent call last)",
      "\u001b[1;32m<ipython-input-22-88c8c8f082b0>\u001b[0m in \u001b[0;36m<module>\u001b[1;34m\u001b[0m\n\u001b[0;32m     21\u001b[0m \u001b[1;33m\u001b[0m\u001b[0m\n\u001b[0;32m     22\u001b[0m \u001b[0mget_ipython\u001b[0m\u001b[1;33m(\u001b[0m\u001b[1;33m)\u001b[0m\u001b[1;33m.\u001b[0m\u001b[0mrun_line_magic\u001b[0m\u001b[1;33m(\u001b[0m\u001b[1;34m'matplotlib'\u001b[0m\u001b[1;33m,\u001b[0m \u001b[1;34m'inline'\u001b[0m\u001b[1;33m)\u001b[0m\u001b[1;33m\u001b[0m\u001b[1;33m\u001b[0m\u001b[0m\n\u001b[1;32m---> 23\u001b[1;33m \u001b[0mplot_history\u001b[0m\u001b[1;33m(\u001b[0m\u001b[0mhistory\u001b[0m\u001b[1;33m)\u001b[0m\u001b[1;33m\u001b[0m\u001b[1;33m\u001b[0m\u001b[0m\n\u001b[0m",
      "\u001b[1;31mNameError\u001b[0m: name 'history' is not defined"
     ]
    }
   ],
   "source": [
    "plt.style.use('ggplot')\n",
    "\n",
    "def plot_history(history):\n",
    "    acc = history.history['accuracy']\n",
    "    val_acc = history.history['val_accuracy']\n",
    "    loss = history.history['loss']\n",
    "    val_loss = history.history['val_loss']\n",
    "    x = range(1, len(acc) + 1)\n",
    "\n",
    "    plt.figure(figsize=(12, 5))\n",
    "    plt.subplot(1, 2, 1)\n",
    "    plt.plot(x, acc, 'b', label='Training acc')\n",
    "    plt.plot(x, val_acc, 'r', label='Validation acc')\n",
    "    plt.title('Training and validation accuracy')\n",
    "    plt.legend()\n",
    "    plt.subplot(1, 2, 2)\n",
    "    plt.plot(x, loss, 'b', label='Training loss')\n",
    "    plt.plot(x, val_loss, 'r', label='Validation loss')\n",
    "    plt.title('Training and validation loss')\n",
    "    plt.legend()\n",
    "\n",
    "%matplotlib inline\n",
    "plot_history(history)"
   ]
  },
  {
   "cell_type": "markdown",
   "metadata": {},
   "source": [
    "# Dự đoán thử"
   ]
  },
  {
   "cell_type": "code",
   "execution_count": 12,
   "metadata": {},
   "outputs": [
    {
     "name": "stdout",
     "output_type": "stream",
     "text": [
      "Prediction:  [1]\n",
      "CPU times: user 321 ms, sys: 54.1 ms, total: 376 ms\n",
      "Wall time: 162 ms\n"
     ]
    }
   ],
   "source": [
    "%%time\n",
    "\n",
    "X_sample = ['Đăng ký mua nhà ở VinHome']\n",
    "X_sample = tokenizer.texts_to_sequences(X_sample)\n",
    "X_sample = pad_sequences(X_sample, padding='post', maxlen=maxlen)\n",
    "\n",
    "y_sample = model.predict_classes(X_sample).flatten().tolist()\n",
    "\n",
    "print('Prediction: ',y_sample)"
   ]
  },
  {
   "cell_type": "code",
   "execution_count": 14,
   "metadata": {},
   "outputs": [
    {
     "name": "stdout",
     "output_type": "stream",
     "text": [
      "Prediction:  [0]\n",
      "CPU times: user 321 ms, sys: 59.2 ms, total: 380 ms\n",
      "Wall time: 156 ms\n"
     ]
    }
   ],
   "source": [
    "%%time\n",
    "\n",
    "X_sample = ['chào Bkav']\n",
    "X_sample = tokenizer.texts_to_sequences(X_sample)\n",
    "X_sample = pad_sequences(X_sample, padding='post', maxlen=maxlen)\n",
    "\n",
    "y_sample = model.predict_classes(X_sample).flatten().tolist()\n",
    "\n",
    "print('Prediction: ',y_sample)"
   ]
  },
  {
   "cell_type": "markdown",
   "metadata": {},
   "source": [
    "# lưu và load model"
   ]
  },
  {
   "cell_type": "code",
   "execution_count": 10,
   "metadata": {},
   "outputs": [],
   "source": [
    "from keras.models import load_model\n",
    "\n",
    "model.save('antispam_team2_2.md')\n",
    "model_load = load_model('antispam_team2_2.md')"
   ]
  },
  {
   "cell_type": "markdown",
   "metadata": {},
   "source": [
    "# Lưu và load Tokenizer (thông tin bộ từ)"
   ]
  },
  {
   "cell_type": "code",
   "execution_count": 11,
   "metadata": {},
   "outputs": [],
   "source": [
    "import pickle\n",
    "\n",
    "# saving\n",
    "with open('tokenizer_2.pickle', 'wb') as handle:\n",
    "    pickle.dump(tokenizer, handle, protocol=pickle.HIGHEST_PROTOCOL)\n",
    "\n",
    "# loading\n",
    "with open('tokenizer_2.pickle', 'rb') as handle:\n",
    "    tokenizer = pickle.load(handle)"
   ]
  }
 ],
 "metadata": {
  "kernelspec": {
   "display_name": "Python 3",
   "language": "python",
   "name": "python3"
  },
  "language_info": {
   "codemirror_mode": {
    "name": "ipython",
    "version": 3
   },
   "file_extension": ".py",
   "mimetype": "text/x-python",
   "name": "python",
   "nbconvert_exporter": "python",
   "pygments_lexer": "ipython3",
   "version": "3.6.10"
  }
 },
 "nbformat": 4,
 "nbformat_minor": 2
}
