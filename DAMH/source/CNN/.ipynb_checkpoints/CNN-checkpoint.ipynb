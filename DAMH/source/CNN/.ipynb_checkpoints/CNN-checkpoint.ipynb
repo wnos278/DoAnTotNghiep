{
 "cells": [
  {
   "cell_type": "markdown",
   "metadata": {},
   "source": [
    "# Khai báo thư viện"
   ]
  },
  {
   "cell_type": "code",
   "execution_count": 7,
   "metadata": {},
   "outputs": [],
   "source": [
    "import pandas as pd\n",
    "import numpy as np\n",
    "import re\n",
    "from sklearn.metrics import accuracy_score\n",
    "import matplotlib.pyplot as plt\n",
    "import datetime, time, json\n",
    "from string import punctuation\n",
    "from keras.layers import Input\n",
    "from keras.preprocessing.text import Tokenizer, one_hot\n",
    "from keras.preprocessing.sequence import pad_sequences\n",
    "from keras.models import Sequential\n",
    "from keras.layers import Embedding,GlobalMaxPooling1D,LeakyReLU,Dense, Dropout,Conv1D, SpatialDropout1D,Reshape,Concatenate, BatchNormalization, TimeDistributed, Lambda, Activation, LSTM, Flatten, Convolution1D, GRU, MaxPooling1D\n",
    "from keras.regularizers import l2\n",
    "from keras.callbacks import Callback, ModelCheckpoint, EarlyStopping\n",
    "from keras import initializers\n",
    "from keras import backend as K\n",
    "from keras.optimizers import SGD\n",
    "from collections import defaultdict\n",
    "from keras.layers.merge import concatenate\n",
    "from keras.models import Model\n",
    "import time\n",
    "import sklearn\n",
    "import random \n",
    "from sklearn.model_selection import train_test_split\n",
    "from sklearn.metrics import classification_report, accuracy_score, confusion_matrix\n",
    "import matplotlib.pyplot as plt\n",
    "import ntpath\n"
   ]
  },
  {
   "cell_type": "markdown",
   "metadata": {},
   "source": [
    "# Load data"
   ]
  },
  {
   "cell_type": "code",
   "execution_count": 2,
   "metadata": {},
   "outputs": [],
   "source": [
    "# x3 data clean\n",
    "from pathlib import Path\n",
    "input_dir = Path('train/OutText')\n",
    "data_files = input_dir.glob('**/*.asm')\n",
    "data_total = []\n",
    "label_total = []\n",
    "for file in data_files:\n",
    "    with open(file, 'r') as f:\n",
    "        data = f.read().replace('\\x00','').lower()\n",
    "        data_total.append(data)\n",
    "        if 'clean' in str(file):\n",
    "            label_total.append([1,0])\n",
    "        else:\n",
    "            label_total.append([0,1])"
   ]
  },
  {
   "cell_type": "code",
   "execution_count": 3,
   "metadata": {},
   "outputs": [
    {
     "data": {
      "text/plain": [
       "1992"
      ]
     },
     "execution_count": 3,
     "metadata": {},
     "output_type": "execute_result"
    }
   ],
   "source": [
    "len(label_total)"
   ]
  },
  {
   "cell_type": "code",
   "execution_count": 4,
   "metadata": {},
   "outputs": [
    {
     "data": {
      "text/plain": [
       "1992"
      ]
     },
     "execution_count": 4,
     "metadata": {},
     "output_type": "execute_result"
    }
   ],
   "source": [
    "len(data_total)"
   ]
  },
  {
   "cell_type": "markdown",
   "metadata": {},
   "source": [
    "# xử lý data"
   ]
  },
  {
   "cell_type": "code",
   "execution_count": 3,
   "metadata": {
    "scrolled": true
   },
   "outputs": [],
   "source": [
    "RANDOM_STATE = 42\n",
    "\n",
    "# Split train & test\n",
    "text_train, text_test, y_train, y_test = train_test_split(data_total, label_total, test_size=0.1, random_state=RANDOM_STATE)\n",
    "\n",
    "num_words = 10000\n",
    "# Tokenize and transform to integer index\n",
    "tokenizer = Tokenizer(oov_token='UNK',filters='\\t\\n')\n",
    "tokenizer.fit_on_texts(text_train)\n",
    "\n",
    "#change to unk it word > num_words\n",
    "# mặc định thứ tự các từ đã sắp xếp theo tuần suất nên có thể loại các từ vị trí cao\n",
    "tokenizer.word_index = {e:i for e,i in tokenizer.word_index.items() if i <= num_words}\n",
    "tokenizer.word_index[tokenizer.oov_token] = num_words + 1\n",
    "\n",
    "X_train = tokenizer.texts_to_sequences(text_train)\n",
    "X_test = tokenizer.texts_to_sequences(text_test)\n",
    "\n",
    "vocab_size = len(tokenizer.word_index) + 1  # Adding 1 because of reserved 0 index\n",
    "maxlen = max(len(x) for x in X_train) # longest text in train set\n",
    "\n",
    "# Add pading to ensure all vectors have same dimensionality\n",
    "X_train = pad_sequences(X_train, padding='post', maxlen=maxlen)\n",
    "X_test = pad_sequences(X_test, padding='post', maxlen=maxlen)"
   ]
  },
  {
   "cell_type": "code",
   "execution_count": 2,
   "metadata": {},
   "outputs": [],
   "source": [
    "import pickle\n",
    "# loading\n",
    "with open('tokenizer_10000_1902.pickle', 'rb') as handle:\n",
    "    tokenizer = pickle.load(handle)"
   ]
  },
  {
   "cell_type": "code",
   "execution_count": 6,
   "metadata": {},
   "outputs": [],
   "source": [
    "RANDOM_STATE = 42\n",
    "\n",
    "# Split train & test\n",
    "text_train, text_test, y_train, y_test = train_test_split(data_total, label_total, test_size=0.1, random_state=RANDOM_STATE)\n"
   ]
  },
  {
   "cell_type": "code",
   "execution_count": 7,
   "metadata": {},
   "outputs": [],
   "source": [
    "X_train = tokenizer.texts_to_sequences(text_train)\n",
    "X_test = tokenizer.texts_to_sequences(text_test)"
   ]
  },
  {
   "cell_type": "code",
   "execution_count": 8,
   "metadata": {},
   "outputs": [],
   "source": [
    "vocab_size = len(tokenizer.word_index) + 1  # Adding 1 because of reserved 0 index"
   ]
  },
  {
   "cell_type": "code",
   "execution_count": 9,
   "metadata": {},
   "outputs": [],
   "source": [
    "y_train=np.asarray(y_train)\n",
    "y_test=np.asarray(y_test)"
   ]
  },
  {
   "cell_type": "code",
   "execution_count": 10,
   "metadata": {},
   "outputs": [],
   "source": [
    "MaxSize = 200000"
   ]
  },
  {
   "cell_type": "code",
   "execution_count": 11,
   "metadata": {},
   "outputs": [],
   "source": [
    "for index2 in range(len(X_train)):\n",
    "    if len(X_train[index2]) > MaxSize:\n",
    "        del X_train[index2][(MaxSize):] \n",
    "for index3 in range(len(X_test)):\n",
    "    if len(X_test[index3]) > MaxSize:\n",
    "        del X_test[index3][(MaxSize):]         "
   ]
  },
  {
   "cell_type": "code",
   "execution_count": 12,
   "metadata": {},
   "outputs": [],
   "source": [
    "X_train = pad_sequences(X_train, padding='post', maxlen=MaxSize)\n",
    "X_test = pad_sequences(X_test, padding='post', maxlen=MaxSize)"
   ]
  },
  {
   "cell_type": "code",
   "execution_count": 19,
   "metadata": {},
   "outputs": [
    {
     "data": {
      "text/plain": [
       "array([[17, 17, 17, ...,  0,  0,  0],\n",
       "       [17, 17, 17, ...,  0,  0,  0],\n",
       "       [ 4,  1,  6, ...,  0,  0,  0],\n",
       "       ...,\n",
       "       [ 4, 43,  6, ...,  0,  0,  0],\n",
       "       [ 6, 34,  1, ...,  0,  0,  0],\n",
       "       [ 4, 33,  2, ...,  0,  0,  0]], dtype=int32)"
      ]
     },
     "execution_count": 19,
     "metadata": {},
     "output_type": "execute_result"
    }
   ],
   "source": [
    "X_train"
   ]
  },
  {
   "cell_type": "code",
   "execution_count": 13,
   "metadata": {},
   "outputs": [
    {
     "data": {
      "text/plain": [
       "10089"
      ]
     },
     "execution_count": 13,
     "metadata": {},
     "output_type": "execute_result"
    }
   ],
   "source": [
    "vocab_size"
   ]
  },
  {
   "cell_type": "code",
   "execution_count": 5,
   "metadata": {},
   "outputs": [
    {
     "data": {
      "text/plain": [
       "array([  28, 3331, 2710, ...,    0,    0,    0], dtype=int32)"
      ]
     },
     "execution_count": 5,
     "metadata": {},
     "output_type": "execute_result"
    }
   ],
   "source": [
    "X_train[0]"
   ]
  },
  {
   "cell_type": "markdown",
   "metadata": {},
   "source": [
    "# Thiết kế mạng"
   ]
  },
  {
   "cell_type": "code",
   "execution_count": 14,
   "metadata": {
    "scrolled": true
   },
   "outputs": [
    {
     "name": "stdout",
     "output_type": "stream",
     "text": [
      "WARNING:tensorflow:From /home/amc/miniconda3/envs/venv/lib/python3.7/site-packages/tensorflow/python/ops/resource_variable_ops.py:435: colocate_with (from tensorflow.python.framework.ops) is deprecated and will be removed in a future version.\n",
      "Instructions for updating:\n",
      "Colocations handled automatically by placer.\n",
      "Model: \"sequential_1\"\n",
      "_________________________________________________________________\n",
      "Layer (type)                 Output Shape              Param #   \n",
      "=================================================================\n",
      "embedding_1 (Embedding)      (None, 200000, 100)       1009000   \n",
      "_________________________________________________________________\n",
      "conv1d_1 (Conv1D)            (None, 199996, 128)       64128     \n",
      "_________________________________________________________________\n",
      "global_max_pooling1d_1 (Glob (None, 128)               0         \n",
      "_________________________________________________________________\n",
      "dense_1 (Dense)              (None, 10)                1290      \n",
      "_________________________________________________________________\n",
      "dropout_1 (Dropout)          (None, 10)                0         \n",
      "_________________________________________________________________\n",
      "dense_2 (Dense)              (None, 2)                 22        \n",
      "=================================================================\n",
      "Total params: 1,074,440\n",
      "Trainable params: 1,074,440\n",
      "Non-trainable params: 0\n",
      "_________________________________________________________________\n",
      "None\n"
     ]
    }
   ],
   "source": [
    "# Define CNN architecture\n",
    "\n",
    "embedding_dim = 100\n",
    "\n",
    "model = Sequential()\n",
    "model.add(layers.Embedding(vocab_size + 1, embedding_dim, input_length=MaxSize))\n",
    "model.add(layers.Conv1D(128, 5, activation='relu'))\n",
    "model.add(layers.GlobalMaxPooling1D())\n",
    "model.add(layers.Dense(10, activation='relu'))\n",
    "model.add(layers.Dropout(0.3))\n",
    "model.add(layers.Dense(2, activation='sigmoid'))\n",
    "model.compile(optimizer='adam',\n",
    "              loss='binary_crossentropy',\n",
    "              metrics=['accuracy'])\n",
    "print(model.summary())"
   ]
  },
  {
   "cell_type": "markdown",
   "metadata": {},
   "source": [
    "# Chạy huấn luyện"
   ]
  },
  {
   "cell_type": "code",
   "execution_count": 15,
   "metadata": {
    "scrolled": false
   },
   "outputs": [
    {
     "name": "stdout",
     "output_type": "stream",
     "text": [
      "WARNING:tensorflow:From /home/amc/miniconda3/envs/venv/lib/python3.7/site-packages/tensorflow/python/ops/math_ops.py:3066: to_int32 (from tensorflow.python.ops.math_ops) is deprecated and will be removed in a future version.\n",
      "Instructions for updating:\n",
      "Use tf.cast instead.\n",
      "WARNING:tensorflow:From /home/amc/miniconda3/envs/venv/lib/python3.7/site-packages/tensorflow/python/ops/math_grad.py:102: div (from tensorflow.python.ops.math_ops) is deprecated and will be removed in a future version.\n",
      "Instructions for updating:\n",
      "Deprecated in favor of operator or tf.math.divide.\n",
      "Train on 1792 samples, validate on 200 samples\n",
      "Epoch 1/20\n",
      "1792/1792 [==============================] - 100s 56ms/step - loss: 0.3835 - accuracy: 0.8217 - val_loss: 0.1468 - val_accuracy: 0.9600\n",
      "Epoch 2/20\n",
      "1792/1792 [==============================] - 98s 55ms/step - loss: 0.1790 - accuracy: 0.9383 - val_loss: 0.1016 - val_accuracy: 0.9700\n",
      "Epoch 3/20\n",
      "1792/1792 [==============================] - 99s 55ms/step - loss: 0.1373 - accuracy: 0.9554 - val_loss: 0.0990 - val_accuracy: 0.9700\n",
      "Epoch 4/20\n",
      "1792/1792 [==============================] - 98s 55ms/step - loss: 0.1081 - accuracy: 0.9701 - val_loss: 0.0861 - val_accuracy: 0.9700\n",
      "Epoch 5/20\n",
      "1792/1792 [==============================] - 98s 54ms/step - loss: 0.0820 - accuracy: 0.9743 - val_loss: 0.1090 - val_accuracy: 0.9750\n",
      "Epoch 6/20\n",
      "1792/1792 [==============================] - 98s 55ms/step - loss: 0.0638 - accuracy: 0.9794 - val_loss: 0.0954 - val_accuracy: 0.9700\n",
      "Epoch 7/20\n",
      "1792/1792 [==============================] - 98s 54ms/step - loss: 0.0443 - accuracy: 0.9866 - val_loss: 0.1035 - val_accuracy: 0.9750\n",
      "Epoch 8/20\n",
      "1792/1792 [==============================] - 97s 54ms/step - loss: 0.0423 - accuracy: 0.9838 - val_loss: 0.1019 - val_accuracy: 0.9700\n",
      "Epoch 9/20\n",
      "1792/1792 [==============================] - 98s 55ms/step - loss: 0.0421 - accuracy: 0.9866 - val_loss: 0.1005 - val_accuracy: 0.9750\n",
      "Epoch 10/20\n",
      "1792/1792 [==============================] - 98s 55ms/step - loss: 0.0346 - accuracy: 0.9894 - val_loss: 0.1224 - val_accuracy: 0.9750\n",
      "Epoch 11/20\n",
      "1792/1792 [==============================] - 98s 54ms/step - loss: 0.0290 - accuracy: 0.9916 - val_loss: 0.1215 - val_accuracy: 0.9750\n",
      "Epoch 12/20\n",
      "1792/1792 [==============================] - 98s 54ms/step - loss: 0.0277 - accuracy: 0.9930 - val_loss: 0.1287 - val_accuracy: 0.9750\n",
      "Epoch 13/20\n",
      "1792/1792 [==============================] - 99s 55ms/step - loss: 0.0195 - accuracy: 0.9964 - val_loss: 0.1520 - val_accuracy: 0.9750\n",
      "Epoch 14/20\n",
      "1792/1792 [==============================] - 99s 55ms/step - loss: 0.0150 - accuracy: 0.9964 - val_loss: 0.1241 - val_accuracy: 0.9800\n",
      "Epoch 15/20\n",
      "1792/1792 [==============================] - 98s 54ms/step - loss: 0.0131 - accuracy: 0.9992 - val_loss: 0.1346 - val_accuracy: 0.9800\n",
      "Epoch 16/20\n",
      "1792/1792 [==============================] - 97s 54ms/step - loss: 0.0241 - accuracy: 0.9953 - val_loss: 0.1843 - val_accuracy: 0.9750\n",
      "Epoch 17/20\n",
      "1792/1792 [==============================] - 97s 54ms/step - loss: 0.0109 - accuracy: 0.9992 - val_loss: 0.1563 - val_accuracy: 0.9775\n",
      "Epoch 18/20\n",
      "1792/1792 [==============================] - 97s 54ms/step - loss: 0.0119 - accuracy: 0.9983 - val_loss: 0.1784 - val_accuracy: 0.9750\n",
      "Epoch 19/20\n",
      "1792/1792 [==============================] - 97s 54ms/step - loss: 0.0106 - accuracy: 0.9980 - val_loss: 0.2357 - val_accuracy: 0.9750\n",
      "Epoch 20/20\n",
      "1792/1792 [==============================] - 98s 55ms/step - loss: 0.0130 - accuracy: 0.9961 - val_loss: 0.2508 - val_accuracy: 0.9750\n"
     ]
    }
   ],
   "source": [
    "# Fit model\n",
    "history = model.fit(X_train, y_train,\n",
    "                    epochs=20,\n",
    "                    verbose=True,\n",
    "                    validation_data=(X_test, y_test),\n",
    "                    batch_size=10)\n"
   ]
  },
  {
   "cell_type": "code",
   "execution_count": 21,
   "metadata": {},
   "outputs": [],
   "source": [
    "model.save('PE_CNN_0604.md')"
   ]
  },
  {
   "cell_type": "code",
   "execution_count": 40,
   "metadata": {},
   "outputs": [],
   "source": [
    "from pathlib import Path\n",
    "input_dir = Path('test/OutText/virus')\n",
    "data_files = input_dir.glob('**/*.asm')\n",
    "data_total = []\n",
    "label_total = []\n",
    "a=0\n",
    "b=0\n",
    "i=0\n",
    "for file in data_files:\n",
    "    with open(file, 'r') as f:\n",
    "        data = f.read().replace('\\x00','').lower()\n",
    "        data_total.append(data)\n",
    "        X_sample = tokenizer.texts_to_sequences(data_total)\n",
    "        X_sample = pad_sequences(X_sample, padding='post', maxlen=200000)\n",
    "        y_sample = model_load.predict(X_sample)\n",
    "        if y_sample[0][0]>y_sample[0][1]:\n",
    "            a+=1\n",
    "        else:\n",
    "            b+=1\n",
    "        data_total = []"
   ]
  },
  {
   "cell_type": "code",
   "execution_count": 41,
   "metadata": {},
   "outputs": [
    {
     "data": {
      "text/plain": [
       "5"
      ]
     },
     "execution_count": 41,
     "metadata": {},
     "output_type": "execute_result"
    }
   ],
   "source": [
    "a"
   ]
  },
  {
   "cell_type": "code",
   "execution_count": 42,
   "metadata": {},
   "outputs": [
    {
     "data": {
      "text/plain": [
       "981"
      ]
     },
     "execution_count": 42,
     "metadata": {},
     "output_type": "execute_result"
    }
   ],
   "source": [
    "b"
   ]
  },
  {
   "cell_type": "code",
   "execution_count": 32,
   "metadata": {},
   "outputs": [],
   "source": [
    "from pathlib import Path\n",
    "input_dir = Path('test/OutText/clean')\n",
    "data_files = input_dir.glob('**/*.asm')\n",
    "data_total = []\n",
    "label_total = []\n",
    "a=0\n",
    "b=0\n",
    "i=0\n",
    "for file in data_files:\n",
    "    if i ==2:\n",
    "        break\n",
    "    with open(file, 'r') as f:\n",
    "        data = f.read().replace('\\x00','').lower()\n",
    "        data_total.append(data)\n",
    "    i+=1"
   ]
  },
  {
   "cell_type": "code",
   "execution_count": 27,
   "metadata": {},
   "outputs": [
    {
     "data": {
      "text/plain": [
       "50"
      ]
     },
     "execution_count": 27,
     "metadata": {},
     "output_type": "execute_result"
    }
   ],
   "source": [
    "len(data_total)"
   ]
  },
  {
   "cell_type": "code",
   "execution_count": 5,
   "metadata": {},
   "outputs": [
    {
     "name": "stdout",
     "output_type": "stream",
     "text": [
      "WARNING:tensorflow:From /home/amc/miniconda3/envs/venv/lib/python3.7/site-packages/tensorflow/python/ops/resource_variable_ops.py:435: colocate_with (from tensorflow.python.framework.ops) is deprecated and will be removed in a future version.\n",
      "Instructions for updating:\n",
      "Colocations handled automatically by placer.\n",
      "WARNING:tensorflow:From /home/amc/miniconda3/envs/venv/lib/python3.7/site-packages/tensorflow/python/ops/math_ops.py:3066: to_int32 (from tensorflow.python.ops.math_ops) is deprecated and will be removed in a future version.\n",
      "Instructions for updating:\n",
      "Use tf.cast instead.\n",
      "WARNING:tensorflow:From /home/amc/miniconda3/envs/venv/lib/python3.7/site-packages/tensorflow/python/ops/math_grad.py:102: div (from tensorflow.python.ops.math_ops) is deprecated and will be removed in a future version.\n",
      "Instructions for updating:\n",
      "Deprecated in favor of operator or tf.math.divide.\n"
     ]
    }
   ],
   "source": [
    "from keras.models import load_model\n",
    "model_load = load_model('PE_CNN_0604.md')"
   ]
  },
  {
   "cell_type": "code",
   "execution_count": 33,
   "metadata": {},
   "outputs": [],
   "source": [
    "X_sample = tokenizer.texts_to_sequences(data_total)\n",
    "X_sample = pad_sequences(X_sample, padding='post', maxlen=200000)\n",
    "\n",
    "\n",
    "\n"
   ]
  },
  {
   "cell_type": "code",
   "execution_count": 34,
   "metadata": {},
   "outputs": [],
   "source": [
    "y_sample = model_load.predict(X_sample)"
   ]
  },
  {
   "cell_type": "code",
   "execution_count": 35,
   "metadata": {},
   "outputs": [
    {
     "data": {
      "text/plain": [
       "array([[9.999782e-01, 9.506941e-06],\n",
       "       [2.863968e-01, 5.804322e-01]], dtype=float32)"
      ]
     },
     "execution_count": 35,
     "metadata": {},
     "output_type": "execute_result"
    }
   ],
   "source": [
    "y_sample"
   ]
  },
  {
   "cell_type": "code",
   "execution_count": 36,
   "metadata": {},
   "outputs": [
    {
     "data": {
      "text/plain": [
       "0.9999782"
      ]
     },
     "execution_count": 36,
     "metadata": {},
     "output_type": "execute_result"
    }
   ],
   "source": [
    "y_sample[0][0]"
   ]
  },
  {
   "cell_type": "code",
   "execution_count": null,
   "metadata": {},
   "outputs": [],
   "source": [
    "a=0\n",
    "b=0\n",
    "for x in y_sample:\n",
    "    if x[0]>x[1]:\n",
    "        a+=1\n",
    "    else:\n",
    "        b+=1"
   ]
  },
  {
   "cell_type": "code",
   "execution_count": null,
   "metadata": {},
   "outputs": [],
   "source": [
    "a"
   ]
  },
  {
   "cell_type": "code",
   "execution_count": null,
   "metadata": {},
   "outputs": [],
   "source": []
  },
  {
   "cell_type": "code",
   "execution_count": null,
   "metadata": {},
   "outputs": [],
   "source": []
  },
  {
   "cell_type": "markdown",
   "metadata": {},
   "source": [
    "# Đồ thị hóa quá trình huấn luyện"
   ]
  },
  {
   "cell_type": "code",
   "execution_count": 8,
   "metadata": {},
   "outputs": [
    {
     "data": {
      "image/png": "[encoded data removed]",
      "text/plain": [
       "<Figure size 864x360 with 2 Axes>"
      ]
     },
     "metadata": {
      "needs_background": "light"
     },
     "output_type": "display_data"
    }
   ],
   "source": [
    "plt.style.use('ggplot')\n",
    "\n",
    "def plot_history(history):\n",
    "    acc = history.history['acc']\n",
    "    val_acc = history.history['val_acc']\n",
    "    loss = history.history['loss']\n",
    "    val_loss = history.history['val_loss']\n",
    "    x = range(1, len(acc) + 1)\n",
    "\n",
    "    plt.figure(figsize=(12, 5))\n",
    "    plt.subplot(1, 2, 1)\n",
    "    plt.plot(x, acc, 'b', label='Training acc')\n",
    "    plt.plot(x, val_acc, 'r', label='Validation acc')\n",
    "    plt.title('Training and validation accuracy')\n",
    "    plt.legend()\n",
    "    plt.subplot(1, 2, 2)\n",
    "    plt.plot(x, loss, 'b', label='Training loss')\n",
    "    plt.plot(x, val_loss, 'r', label='Validation loss')\n",
    "    plt.title('Training and validation loss')\n",
    "    plt.legend()\n",
    "\n",
    "%matplotlib inline\n",
    "plot_history(history)"
   ]
  },
  {
   "cell_type": "markdown",
   "metadata": {},
   "source": [
    "# Dự đoán thử"
   ]
  },
  {
   "cell_type": "code",
   "execution_count": 12,
   "metadata": {},
   "outputs": [
    {
     "name": "stdout",
     "output_type": "stream",
     "text": [
      "Prediction:  [1]\n",
      "CPU times: user 321 ms, sys: 54.1 ms, total: 376 ms\n",
      "Wall time: 162 ms\n"
     ]
    }
   ],
   "source": [
    "%%time\n",
    "\n",
    "X_sample = ['Đăng ký mua nhà ở VinHome']\n",
    "X_sample = tokenizer.texts_to_sequences(X_sample)\n",
    "X_sample = pad_sequences(X_sample, padding='post', maxlen=maxlen)\n",
    "\n",
    "y_sample = model.predict_classes(X_sample).flatten().tolist()\n",
    "\n",
    "print('Prediction: ',y_sample)"
   ]
  },
  {
   "cell_type": "code",
   "execution_count": 14,
   "metadata": {},
   "outputs": [
    {
     "name": "stdout",
     "output_type": "stream",
     "text": [
      "Prediction:  [0]\n",
      "CPU times: user 321 ms, sys: 59.2 ms, total: 380 ms\n",
      "Wall time: 156 ms\n"
     ]
    }
   ],
   "source": [
    "%%time\n",
    "\n",
    "X_sample = ['chào Bkav']\n",
    "X_sample = tokenizer.texts_to_sequences(X_sample)\n",
    "X_sample = pad_sequences(X_sample, padding='post', maxlen=maxlen)\n",
    "\n",
    "y_sample = model.predict_classes(X_sample).flatten().tolist()\n",
    "\n",
    "print('Prediction: ',y_sample)"
   ]
  },
  {
   "cell_type": "markdown",
   "metadata": {},
   "source": [
    "# lưu và load model"
   ]
  },
  {
   "cell_type": "code",
   "execution_count": 10,
   "metadata": {},
   "outputs": [],
   "source": [
    "from keras.models import load_model\n",
    "\n",
    "model.save('antispam_team2_2.md')\n",
    "model_load = load_model('antispam_team2_2.md')"
   ]
  },
  {
   "cell_type": "markdown",
   "metadata": {},
   "source": [
    "# Lưu và load Tokenizer (thông tin bộ từ)"
   ]
  },
  {
   "cell_type": "code",
   "execution_count": 11,
   "metadata": {},
   "outputs": [],
   "source": [
    "import pickle\n",
    "\n",
    "# saving\n",
    "with open('tokenizer_2.pickle', 'wb') as handle:\n",
    "    pickle.dump(tokenizer, handle, protocol=pickle.HIGHEST_PROTOCOL)\n",
    "\n",
    "# loading\n",
    "with open('tokenizer_2.pickle', 'rb') as handle:\n",
    "    tokenizer = pickle.load(handle)"
   ]
  }
 ],
 "metadata": {
  "kernelspec": {
   "display_name": "Python 3",
   "language": "python",
   "name": "python3"
  },
  "language_info": {
   "codemirror_mode": {
    "name": "ipython",
    "version": 3
   },
   "file_extension": ".py",
   "mimetype": "text/x-python",
   "name": "python",
   "nbconvert_exporter": "python",
   "pygments_lexer": "ipython3",
   "version": "3.6.10"
  }
 },
 "nbformat": 4,
 "nbformat_minor": 2
}
