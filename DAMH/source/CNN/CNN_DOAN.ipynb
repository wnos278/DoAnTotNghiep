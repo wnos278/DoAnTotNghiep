{
 "cells": [
  {
   "cell_type": "markdown",
   "metadata": {},
   "source": [
    "# Import thư viện sử dụng"
   ]
  },
  {
   "cell_type": "code",
   "execution_count": 3,
   "metadata": {},
   "outputs": [
    {
     "name": "stderr",
     "output_type": "stream",
     "text": [
      "Using TensorFlow backend.\n",
      "C:\\Users\\takak\\anaconda3\\lib\\site-packages\\tensorflow\\python\\framework\\dtypes.py:516: FutureWarning: Passing (type, 1) or '1type' as a synonym of type is deprecated; in a future version of numpy, it will be understood as (type, (1,)) / '(1,)type'.\n",
      "  _np_qint8 = np.dtype([(\"qint8\", np.int8, 1)])\n",
      "C:\\Users\\takak\\anaconda3\\lib\\site-packages\\tensorflow\\python\\framework\\dtypes.py:517: FutureWarning: Passing (type, 1) or '1type' as a synonym of type is deprecated; in a future version of numpy, it will be understood as (type, (1,)) / '(1,)type'.\n",
      "  _np_quint8 = np.dtype([(\"quint8\", np.uint8, 1)])\n",
      "C:\\Users\\takak\\anaconda3\\lib\\site-packages\\tensorflow\\python\\framework\\dtypes.py:518: FutureWarning: Passing (type, 1) or '1type' as a synonym of type is deprecated; in a future version of numpy, it will be understood as (type, (1,)) / '(1,)type'.\n",
      "  _np_qint16 = np.dtype([(\"qint16\", np.int16, 1)])\n",
      "C:\\Users\\takak\\anaconda3\\lib\\site-packages\\tensorflow\\python\\framework\\dtypes.py:519: FutureWarning: Passing (type, 1) or '1type' as a synonym of type is deprecated; in a future version of numpy, it will be understood as (type, (1,)) / '(1,)type'.\n",
      "  _np_quint16 = np.dtype([(\"quint16\", np.uint16, 1)])\n",
      "C:\\Users\\takak\\anaconda3\\lib\\site-packages\\tensorflow\\python\\framework\\dtypes.py:520: FutureWarning: Passing (type, 1) or '1type' as a synonym of type is deprecated; in a future version of numpy, it will be understood as (type, (1,)) / '(1,)type'.\n",
      "  _np_qint32 = np.dtype([(\"qint32\", np.int32, 1)])\n",
      "C:\\Users\\takak\\anaconda3\\lib\\site-packages\\tensorflow\\python\\framework\\dtypes.py:525: FutureWarning: Passing (type, 1) or '1type' as a synonym of type is deprecated; in a future version of numpy, it will be understood as (type, (1,)) / '(1,)type'.\n",
      "  np_resource = np.dtype([(\"resource\", np.ubyte, 1)])\n",
      "C:\\Users\\takak\\anaconda3\\lib\\site-packages\\tensorboard\\compat\\tensorflow_stub\\dtypes.py:541: FutureWarning: Passing (type, 1) or '1type' as a synonym of type is deprecated; in a future version of numpy, it will be understood as (type, (1,)) / '(1,)type'.\n",
      "  _np_qint8 = np.dtype([(\"qint8\", np.int8, 1)])\n",
      "C:\\Users\\takak\\anaconda3\\lib\\site-packages\\tensorboard\\compat\\tensorflow_stub\\dtypes.py:542: FutureWarning: Passing (type, 1) or '1type' as a synonym of type is deprecated; in a future version of numpy, it will be understood as (type, (1,)) / '(1,)type'.\n",
      "  _np_quint8 = np.dtype([(\"quint8\", np.uint8, 1)])\n",
      "C:\\Users\\takak\\anaconda3\\lib\\site-packages\\tensorboard\\compat\\tensorflow_stub\\dtypes.py:543: FutureWarning: Passing (type, 1) or '1type' as a synonym of type is deprecated; in a future version of numpy, it will be understood as (type, (1,)) / '(1,)type'.\n",
      "  _np_qint16 = np.dtype([(\"qint16\", np.int16, 1)])\n",
      "C:\\Users\\takak\\anaconda3\\lib\\site-packages\\tensorboard\\compat\\tensorflow_stub\\dtypes.py:544: FutureWarning: Passing (type, 1) or '1type' as a synonym of type is deprecated; in a future version of numpy, it will be understood as (type, (1,)) / '(1,)type'.\n",
      "  _np_quint16 = np.dtype([(\"quint16\", np.uint16, 1)])\n",
      "C:\\Users\\takak\\anaconda3\\lib\\site-packages\\tensorboard\\compat\\tensorflow_stub\\dtypes.py:545: FutureWarning: Passing (type, 1) or '1type' as a synonym of type is deprecated; in a future version of numpy, it will be understood as (type, (1,)) / '(1,)type'.\n",
      "  _np_qint32 = np.dtype([(\"qint32\", np.int32, 1)])\n",
      "C:\\Users\\takak\\anaconda3\\lib\\site-packages\\tensorboard\\compat\\tensorflow_stub\\dtypes.py:550: FutureWarning: Passing (type, 1) or '1type' as a synonym of type is deprecated; in a future version of numpy, it will be understood as (type, (1,)) / '(1,)type'.\n",
      "  np_resource = np.dtype([(\"resource\", np.ubyte, 1)])\n"
     ]
    }
   ],
   "source": [
    "import pandas as pd\n",
    "import numpy as np\n",
    "import re\n",
    "from sklearn.metrics import accuracy_score\n",
    "import matplotlib.pyplot as plt\n",
    "import datetime, time, json\n",
    "from string import punctuation\n",
    "from keras.layers import Input\n",
    "from keras.preprocessing.text import Tokenizer, one_hot\n",
    "from keras.preprocessing.sequence import pad_sequences\n",
    "from keras.models import Sequential\n",
    "from keras.layers import Embedding,GlobalMaxPooling1D,LeakyReLU,Dense, Dropout,Conv1D, SpatialDropout1D,Reshape,Concatenate, BatchNormalization, TimeDistributed, Lambda, Activation, LSTM, Flatten, Convolution1D, GRU, MaxPooling1D\n",
    "from keras.regularizers import l2\n",
    "from keras.callbacks import Callback, ModelCheckpoint, EarlyStopping\n",
    "from keras import initializers\n",
    "from keras import backend as K\n",
    "from keras.optimizers import SGD\n",
    "from collections import defaultdict\n",
    "from keras.layers.merge import concatenate\n",
    "from keras.models import Model\n",
    "import time\n",
    "import sklearn\n",
    "import random \n",
    "from sklearn.model_selection import train_test_split\n",
    "from sklearn.metrics import classification_report, accuracy_score, confusion_matrix\n",
    "import matplotlib.pyplot as plt\n",
    "import ntpath\n",
    "import keras\n"
   ]
  },
  {
   "cell_type": "code",
   "execution_count": 1,
   "metadata": {},
   "outputs": [
    {
     "name": "stdout",
     "output_type": "stream",
     "text": [
      "2592\n"
     ]
    }
   ],
   "source": [
    "# x3 data clean\n",
    "from pathlib import Path\n",
    "data_total = []\n",
    "label_total = []\n",
    "# clean_js path\n",
    "input_clean_dir = Path('H:/DoAnTotNghiep/DAMH/data_crawl/sontdc_data_js/clean_js/res')\n",
    "data_clean_files = input_clean_dir.glob('*')\n",
    "for file in data_clean_files:\n",
    "    with open(file, 'r') as f:\n",
    "        data = f.read().replace('\\x00', '').lower()\n",
    "        data_total.append(data)\n",
    "        data_total.append(data)\n",
    "        label_total.append([1, 0])\n",
    "        label_total.append([1, 0])\n",
    "print(len(data_total))\n",
    "# malware_js path\n",
    "input_malware_dir = Path('H:/DoAnTotNghiep/DAMH/data_crawl/sontdc_data_js/virus_js/res')\n",
    "data_malware_files = input_malware_dir.glob('*')\n",
    "for file in data_malware_files:\n",
    "    with open(file, 'r') as f:\n",
    "        data = f.read().replace('\\x00', '').lower()\n",
    "        data_total.append(data)\n",
    "        label_total.append([0, 1])\n"
   ]
  },
  {
   "cell_type": "code",
   "execution_count": 2,
   "metadata": {},
   "outputs": [
    {
     "data": {
      "text/plain": [
       "5222"
      ]
     },
     "execution_count": 2,
     "metadata": {},
     "output_type": "execute_result"
    }
   ],
   "source": [
    "len(data_total)"
   ]
  },
  {
   "cell_type": "code",
   "execution_count": 80,
   "metadata": {},
   "outputs": [
    {
     "name": "stdout",
     "output_type": "stream",
     "text": [
      "4699 523 4699 523\n"
     ]
    },
    {
     "data": {
      "text/plain": [
       "5152"
      ]
     },
     "execution_count": 80,
     "metadata": {},
     "output_type": "execute_result"
    }
   ],
   "source": [
    "RANDOM_STATE = 42\n",
    "\n",
    "# Split train & test\n",
    "text_train, text_test, y_train, y_test = train_test_split(data_total, label_total, test_size=0.1, random_state=RANDOM_STATE)\n",
    "print(len(text_train), len(text_test), len(y_train), len(y_test))\n",
    "#num_words = 10000\n",
    "# Tokenize and transform to integer index\n",
    "tokenizer = Tokenizer(oov_token='UNK',filters='\\t\\n')\n",
    "tokenizer.fit_on_texts(text_train)\n",
    "len(tokenizer.word_index)"
   ]
  },
  {
   "cell_type": "code",
   "execution_count": 81,
   "metadata": {},
   "outputs": [],
   "source": [
    "#change to unk it word > num_words\n",
    "# mặc định thứ tự các từ đã sắp xếp theo tuần suất nên có thể loại các từ vị trí cao\n",
    "#tokenizer.word_index = {e:i for e,i in tokenizer.word_index.items() if i <= num_words}\n",
    "#tokenizer.word_index[tokenizer.oov_token] = num_words + 1\n",
    "\n",
    "X_train = tokenizer.texts_to_sequences(text_train)\n",
    "X_test = tokenizer.texts_to_sequences(text_test)\n",
    "vocab_size = len(tokenizer.word_index) + 1  # Adding 1 because of reserved 0 index\n",
    "maxlen = max(len(x) for x in X_train) # longest text in train set\n",
    "\n",
    "MaxSize = 50000 # thay the maxlen vi qua lon\n",
    "# Add pading to ensure all vectors have same dimensionality\n",
    "X_train = pad_sequences(X_train, padding='post', maxlen=MaxSize) #thêm padding vào đằng sau (post) cho đến đủ chiều dài maxlen\n",
    "X_test = pad_sequences(X_test, padding='post', maxlen=MaxSize)"
   ]
  },
  {
   "cell_type": "code",
   "execution_count": 82,
   "metadata": {},
   "outputs": [
    {
     "name": "stdout",
     "output_type": "stream",
     "text": [
      "4699\n",
      "523\n"
     ]
    }
   ],
   "source": [
    "y_train=np.asarray(y_train)\n",
    "print(len(y_train))\n",
    "y_test=np.asarray(y_test)\n",
    "print(len(y_test))"
   ]
  },
  {
   "cell_type": "code",
   "execution_count": 83,
   "metadata": {},
   "outputs": [],
   "source": [
    "MaxSize = 50000"
   ]
  },
  {
   "cell_type": "code",
   "execution_count": 84,
   "metadata": {},
   "outputs": [
    {
     "name": "stdout",
     "output_type": "stream",
     "text": [
      "150000\n"
     ]
    }
   ],
   "source": [
    "print(len(X_train[324]))"
   ]
  },
  {
   "cell_type": "code",
   "execution_count": 85,
   "metadata": {},
   "outputs": [],
   "source": [
    "for index2 in range(len(X_train)):\n",
    "    if len(X_train[index2]) > MaxSize:\n",
    "        del X_train[index2][(MaxSize):] \n",
    "for index3 in range(len(X_test)):\n",
    "    if len(X_test[index3]) > MaxSize:\n",
    "        del X_test[index3][(MaxSize):]"
   ]
  },
  {
   "cell_type": "code",
   "execution_count": 86,
   "metadata": {},
   "outputs": [],
   "source": [
    "X_train = pad_sequences(X_train, padding='post', maxlen=MaxSize)\n",
    "X_test = pad_sequences(X_test, padding='post', maxlen=MaxSize)"
   ]
  },
  {
   "cell_type": "code",
   "execution_count": 87,
   "metadata": {},
   "outputs": [
    {
     "data": {
      "text/plain": [
       "5153"
      ]
     },
     "execution_count": 87,
     "metadata": {},
     "output_type": "execute_result"
    }
   ],
   "source": [
    "vocab_size"
   ]
  },
  {
   "cell_type": "markdown",
   "metadata": {},
   "source": [
    "# Mô hình mạng"
   ]
  },
  {
   "cell_type": "code",
   "execution_count": 88,
   "metadata": {},
   "outputs": [
    {
     "name": "stdout",
     "output_type": "stream",
     "text": [
      "Model: \"sequential_3\"\n",
      "_________________________________________________________________\n",
      "Layer (type)                 Output Shape              Param #   \n",
      "=================================================================\n",
      "embedding_3 (Embedding)      (None, 150000, 100)       515400    \n",
      "_________________________________________________________________\n",
      "conv1d_3 (Conv1D)            (None, 149996, 128)       64128     \n",
      "_________________________________________________________________\n",
      "global_max_pooling1d_3 (Glob (None, 128)               0         \n",
      "_________________________________________________________________\n",
      "dense_5 (Dense)              (None, 10)                1290      \n",
      "_________________________________________________________________\n",
      "dropout_3 (Dropout)          (None, 10)                0         \n",
      "_________________________________________________________________\n",
      "dense_6 (Dense)              (None, 2)                 22        \n",
      "=================================================================\n",
      "Total params: 580,840\n",
      "Trainable params: 580,840\n",
      "Non-trainable params: 0\n",
      "_________________________________________________________________\n",
      "None\n"
     ]
    }
   ],
   "source": [
    "# Define CNN architecture\n",
    "\n",
    "embedding_dim = 100\n",
    "\n",
    "model = Sequential()\n",
    "model.add(keras.layers.Embedding(vocab_size + 1, embedding_dim, input_length=MaxSize))\n",
    "model.add(keras.layers.Conv1D(128, 5, activation='relu'))\n",
    "model.add(keras.layers.GlobalMaxPooling1D())\n",
    "model.add(keras.layers.Dense(10, activation='relu'))\n",
    "model.add(keras.layers.Dropout(0.3))\n",
    "model.add(keras.layers.Dense(2, activation='sigmoid'))\n",
    "model.compile(optimizer='adam',\n",
    "              loss='binary_crossentropy',\n",
    "              metrics=['accuracy'])\n",
    "print(model.summary())"
   ]
  },
  {
   "cell_type": "markdown",
   "metadata": {},
   "source": [
    "# Chạy huấn luyện"
   ]
  },
  {
   "cell_type": "code",
   "execution_count": 89,
   "metadata": {},
   "outputs": [
    {
     "name": "stdout",
     "output_type": "stream",
     "text": [
      "Train on 4699 samples, validate on 523 samples\n",
      "Epoch 1/5\n",
      "4699/4699 [==============================] - 5560s 1s/step - loss: 0.3797 - accuracy: 0.8246 - val_loss: 0.1639 - val_accuracy: 0.9417\n",
      "Epoch 2/5\n",
      "4699/4699 [==============================] - 4900s 1s/step - loss: 0.1395 - accuracy: 0.9603 - val_loss: 0.1336 - val_accuracy: 0.9465\n",
      "Epoch 3/5\n",
      "4699/4699 [==============================] - 4559s 970ms/step - loss: 0.0927 - accuracy: 0.9770 - val_loss: 0.1180 - val_accuracy: 0.9646\n",
      "Epoch 4/5\n",
      "1930/4699 [===========>..................] - ETA: 44:29 - loss: 0.0619 - accuracy: 0.9863"
     ]
    },
    {
     "ename": "KeyboardInterrupt",
     "evalue": "",
     "output_type": "error",
     "traceback": [
      "\u001b[1;31m---------------------------------------------------------------------------\u001b[0m",
      "\u001b[1;31mKeyboardInterrupt\u001b[0m                         Traceback (most recent call last)",
      "\u001b[1;32m<ipython-input-89-a34325a6b14d>\u001b[0m in \u001b[0;36m<module>\u001b[1;34m\u001b[0m\n\u001b[0;32m      4\u001b[0m                     \u001b[0mverbose\u001b[0m\u001b[1;33m=\u001b[0m\u001b[1;32mTrue\u001b[0m\u001b[1;33m,\u001b[0m\u001b[1;33m\u001b[0m\u001b[1;33m\u001b[0m\u001b[0m\n\u001b[0;32m      5\u001b[0m                     \u001b[0mvalidation_data\u001b[0m\u001b[1;33m=\u001b[0m\u001b[1;33m(\u001b[0m\u001b[0mX_test\u001b[0m\u001b[1;33m,\u001b[0m \u001b[0my_test\u001b[0m\u001b[1;33m)\u001b[0m\u001b[1;33m,\u001b[0m\u001b[1;33m\u001b[0m\u001b[1;33m\u001b[0m\u001b[0m\n\u001b[1;32m----> 6\u001b[1;33m                     batch_size=10)\n\u001b[0m",
      "\u001b[1;32md:\\anaconda3\\envs\\tensorflow-gpu\\lib\\site-packages\\keras\\engine\\training.py\u001b[0m in \u001b[0;36mfit\u001b[1;34m(self, x, y, batch_size, epochs, verbose, callbacks, validation_split, validation_data, shuffle, class_weight, sample_weight, initial_epoch, steps_per_epoch, validation_steps, validation_freq, max_queue_size, workers, use_multiprocessing, **kwargs)\u001b[0m\n\u001b[0;32m   1237\u001b[0m                                         \u001b[0msteps_per_epoch\u001b[0m\u001b[1;33m=\u001b[0m\u001b[0msteps_per_epoch\u001b[0m\u001b[1;33m,\u001b[0m\u001b[1;33m\u001b[0m\u001b[1;33m\u001b[0m\u001b[0m\n\u001b[0;32m   1238\u001b[0m                                         \u001b[0mvalidation_steps\u001b[0m\u001b[1;33m=\u001b[0m\u001b[0mvalidation_steps\u001b[0m\u001b[1;33m,\u001b[0m\u001b[1;33m\u001b[0m\u001b[1;33m\u001b[0m\u001b[0m\n\u001b[1;32m-> 1239\u001b[1;33m                                         validation_freq=validation_freq)\n\u001b[0m\u001b[0;32m   1240\u001b[0m \u001b[1;33m\u001b[0m\u001b[0m\n\u001b[0;32m   1241\u001b[0m     def evaluate(self,\n",
      "\u001b[1;32md:\\anaconda3\\envs\\tensorflow-gpu\\lib\\site-packages\\keras\\engine\\training_arrays.py\u001b[0m in \u001b[0;36mfit_loop\u001b[1;34m(model, fit_function, fit_inputs, out_labels, batch_size, epochs, verbose, callbacks, val_function, val_inputs, shuffle, initial_epoch, steps_per_epoch, validation_steps, validation_freq)\u001b[0m\n\u001b[0;32m    194\u001b[0m                     \u001b[0mins_batch\u001b[0m\u001b[1;33m[\u001b[0m\u001b[0mi\u001b[0m\u001b[1;33m]\u001b[0m \u001b[1;33m=\u001b[0m \u001b[0mins_batch\u001b[0m\u001b[1;33m[\u001b[0m\u001b[0mi\u001b[0m\u001b[1;33m]\u001b[0m\u001b[1;33m.\u001b[0m\u001b[0mtoarray\u001b[0m\u001b[1;33m(\u001b[0m\u001b[1;33m)\u001b[0m\u001b[1;33m\u001b[0m\u001b[1;33m\u001b[0m\u001b[0m\n\u001b[0;32m    195\u001b[0m \u001b[1;33m\u001b[0m\u001b[0m\n\u001b[1;32m--> 196\u001b[1;33m                 \u001b[0mouts\u001b[0m \u001b[1;33m=\u001b[0m \u001b[0mfit_function\u001b[0m\u001b[1;33m(\u001b[0m\u001b[0mins_batch\u001b[0m\u001b[1;33m)\u001b[0m\u001b[1;33m\u001b[0m\u001b[1;33m\u001b[0m\u001b[0m\n\u001b[0m\u001b[0;32m    197\u001b[0m                 \u001b[0mouts\u001b[0m \u001b[1;33m=\u001b[0m \u001b[0mto_list\u001b[0m\u001b[1;33m(\u001b[0m\u001b[0mouts\u001b[0m\u001b[1;33m)\u001b[0m\u001b[1;33m\u001b[0m\u001b[1;33m\u001b[0m\u001b[0m\n\u001b[0;32m    198\u001b[0m                 \u001b[1;32mfor\u001b[0m \u001b[0ml\u001b[0m\u001b[1;33m,\u001b[0m \u001b[0mo\u001b[0m \u001b[1;32min\u001b[0m \u001b[0mzip\u001b[0m\u001b[1;33m(\u001b[0m\u001b[0mout_labels\u001b[0m\u001b[1;33m,\u001b[0m \u001b[0mouts\u001b[0m\u001b[1;33m)\u001b[0m\u001b[1;33m:\u001b[0m\u001b[1;33m\u001b[0m\u001b[1;33m\u001b[0m\u001b[0m\n",
      "\u001b[1;32md:\\anaconda3\\envs\\tensorflow-gpu\\lib\\site-packages\\tensorflow_core\\python\\keras\\backend.py\u001b[0m in \u001b[0;36m__call__\u001b[1;34m(self, inputs)\u001b[0m\n\u001b[0;32m   3474\u001b[0m \u001b[1;33m\u001b[0m\u001b[0m\n\u001b[0;32m   3475\u001b[0m     fetched = self._callable_fn(*array_vals,\n\u001b[1;32m-> 3476\u001b[1;33m                                 run_metadata=self.run_metadata)\n\u001b[0m\u001b[0;32m   3477\u001b[0m     \u001b[0mself\u001b[0m\u001b[1;33m.\u001b[0m\u001b[0m_call_fetch_callbacks\u001b[0m\u001b[1;33m(\u001b[0m\u001b[0mfetched\u001b[0m\u001b[1;33m[\u001b[0m\u001b[1;33m-\u001b[0m\u001b[0mlen\u001b[0m\u001b[1;33m(\u001b[0m\u001b[0mself\u001b[0m\u001b[1;33m.\u001b[0m\u001b[0m_fetches\u001b[0m\u001b[1;33m)\u001b[0m\u001b[1;33m:\u001b[0m\u001b[1;33m]\u001b[0m\u001b[1;33m)\u001b[0m\u001b[1;33m\u001b[0m\u001b[1;33m\u001b[0m\u001b[0m\n\u001b[0;32m   3478\u001b[0m     output_structure = nest.pack_sequence_as(\n",
      "\u001b[1;32md:\\anaconda3\\envs\\tensorflow-gpu\\lib\\site-packages\\tensorflow_core\\python\\client\\session.py\u001b[0m in \u001b[0;36m__call__\u001b[1;34m(self, *args, **kwargs)\u001b[0m\n\u001b[0;32m   1470\u001b[0m         ret = tf_session.TF_SessionRunCallable(self._session._session,\n\u001b[0;32m   1471\u001b[0m                                                \u001b[0mself\u001b[0m\u001b[1;33m.\u001b[0m\u001b[0m_handle\u001b[0m\u001b[1;33m,\u001b[0m \u001b[0margs\u001b[0m\u001b[1;33m,\u001b[0m\u001b[1;33m\u001b[0m\u001b[1;33m\u001b[0m\u001b[0m\n\u001b[1;32m-> 1472\u001b[1;33m                                                run_metadata_ptr)\n\u001b[0m\u001b[0;32m   1473\u001b[0m         \u001b[1;32mif\u001b[0m \u001b[0mrun_metadata\u001b[0m\u001b[1;33m:\u001b[0m\u001b[1;33m\u001b[0m\u001b[1;33m\u001b[0m\u001b[0m\n\u001b[0;32m   1474\u001b[0m           \u001b[0mproto_data\u001b[0m \u001b[1;33m=\u001b[0m \u001b[0mtf_session\u001b[0m\u001b[1;33m.\u001b[0m\u001b[0mTF_GetBuffer\u001b[0m\u001b[1;33m(\u001b[0m\u001b[0mrun_metadata_ptr\u001b[0m\u001b[1;33m)\u001b[0m\u001b[1;33m\u001b[0m\u001b[1;33m\u001b[0m\u001b[0m\n",
      "\u001b[1;31mKeyboardInterrupt\u001b[0m: "
     ]
    }
   ],
   "source": [
    "# Fit model\n",
    "history = model.fit(X_train, y_train,\n",
    "                    epochs=5,\n",
    "                    verbose=True,\n",
    "                    validation_data=(X_test, y_test),\n",
    "                    batch_size=10)"
   ]
  },
  {
   "cell_type": "code",
   "execution_count": 66,
   "metadata": {},
   "outputs": [],
   "source": [
    "model.save('JS_CNN_1505_10Epoc.md')"
   ]
  },
  {
   "cell_type": "markdown",
   "metadata": {},
   "source": [
    "# Test"
   ]
  },
  {
   "cell_type": "code",
   "execution_count": 67,
   "metadata": {},
   "outputs": [],
   "source": [
    "# Load tap test\n",
    "from pathlib import Path\n",
    "input_dir = Path(\"H:/DoAnTotNghiep/DAMH/data_crawl/tap_test_virus/res\")\n",
    "data_files = input_dir.glob('*')\n",
    "data_total = []\n",
    "label_total = []\n",
    "\n",
    "# them vao mang luu ten de tim mau nhan nham\n",
    "file_names = []\n",
    "\n",
    "a=0\n",
    "b=0\n",
    "i=0\n",
    "for file in data_files:\n",
    "    file_names.append(file)\n",
    "    with open(file, 'r') as f:\n",
    "        data = f.read().replace('\\x00','').lower()\n",
    "        data_total.append(data)\n",
    "    i+=1"
   ]
  },
  {
   "cell_type": "code",
   "execution_count": 68,
   "metadata": {},
   "outputs": [
    {
     "data": {
      "text/plain": [
       "2122"
      ]
     },
     "execution_count": 68,
     "metadata": {},
     "output_type": "execute_result"
    }
   ],
   "source": [
    "len(data_total)"
   ]
  },
  {
   "cell_type": "code",
   "execution_count": 4,
   "metadata": {},
   "outputs": [
    {
     "name": "stdout",
     "output_type": "stream",
     "text": [
      "WARNING:tensorflow:From C:\\Users\\takak\\anaconda3\\lib\\site-packages\\tensorflow\\python\\ops\\nn_impl.py:180: add_dispatch_support.<locals>.wrapper (from tensorflow.python.ops.array_ops) is deprecated and will be removed in a future version.\n",
      "Instructions for updating:\n",
      "Use tf.where in 2.0, which has the same broadcast rule as np.where\n",
      "WARNING:tensorflow:From C:\\Users\\takak\\anaconda3\\lib\\site-packages\\keras\\backend\\tensorflow_backend.py:422: The name tf.global_variables is deprecated. Please use tf.compat.v1.global_variables instead.\n",
      "\n"
     ]
    }
   ],
   "source": [
    "# Load model da luu tu lan train truoc\n",
    "from keras.models import load_model\n",
    "model_load = load_model('JS_CNN_1505_15Epoc.md')"
   ]
  },
  {
   "cell_type": "code",
   "execution_count": 70,
   "metadata": {},
   "outputs": [],
   "source": [
    "# Padding sample tu tap data\n",
    "X_sample = tokenizer.texts_to_sequences(data_total)\n",
    "X_sample = pad_sequences(X_sample, padding='post', maxlen=20000)"
   ]
  },
  {
   "cell_type": "code",
   "execution_count": 71,
   "metadata": {},
   "outputs": [
    {
     "data": {
      "text/plain": [
       "array([[ 20,   6, 628, ...,   0,   0,   0],\n",
       "       [ 11,  15,   8, ...,   0,   0,   0],\n",
       "       [ 25,   6, 659, ...,   0,   0,   0],\n",
       "       ...,\n",
       "       [ 20,   8,   3, ...,   0,   0,   0],\n",
       "       [ 15,   8,  22, ...,   0,   0,   0],\n",
       "       [ 15,   8,   4, ...,   0,   0,   0]])"
      ]
     },
     "execution_count": 71,
     "metadata": {},
     "output_type": "execute_result"
    }
   ],
   "source": [
    "X_sample"
   ]
  },
  {
   "cell_type": "code",
   "execution_count": 72,
   "metadata": {},
   "outputs": [],
   "source": [
    "y_sample = model_load.predict(X_sample)"
   ]
  },
  {
   "cell_type": "code",
   "execution_count": 73,
   "metadata": {},
   "outputs": [
    {
     "data": {
      "text/plain": [
       "array([[1.4901161e-07, 9.9999976e-01],\n",
       "       [1.9258261e-04, 9.9976802e-01],\n",
       "       [0.0000000e+00, 1.0000000e+00],\n",
       "       ...,\n",
       "       [9.7155571e-06, 9.9998653e-01],\n",
       "       [0.0000000e+00, 1.0000000e+00],\n",
       "       [2.6138692e-05, 9.9996650e-01]], dtype=float32)"
      ]
     },
     "execution_count": 73,
     "metadata": {},
     "output_type": "execute_result"
    }
   ],
   "source": [
    "y_sample"
   ]
  },
  {
   "cell_type": "code",
   "execution_count": 74,
   "metadata": {},
   "outputs": [
    {
     "name": "stdout",
     "output_type": "stream",
     "text": [
      "5 H:\\DoAnTotNghiep\\DAMH\\data_crawl\\tap_test_virus\\res\\static_0031f0c0e3a4c4a44ca7db79c1cd0587c3ab4cf1e16402613399673f0e967090\n",
      "14 H:\\DoAnTotNghiep\\DAMH\\data_crawl\\tap_test_virus\\res\\static_00766f24eb8521bcbf4357c77b5dcaf4a43c5346d98b4b4fea49f13cf2d88087\n",
      "23 H:\\DoAnTotNghiep\\DAMH\\data_crawl\\tap_test_virus\\res\\static_00bb589a33517647ae8524e3c19602125f6b16d4d269958fd0358eb33e7613a1\n",
      "36 H:\\DoAnTotNghiep\\DAMH\\data_crawl\\tap_test_virus\\res\\static_014284e544415350fda4ece23ee57e25a2728cadff487f31107474d6a5fe8e9b\n",
      "41 H:\\DoAnTotNghiep\\DAMH\\data_crawl\\tap_test_virus\\res\\static_017ba30cb64aa42b52e267a9f7c9e4ce0e3f74c2fe8268481c5432742e4c3419\n",
      "50 H:\\DoAnTotNghiep\\DAMH\\data_crawl\\tap_test_virus\\res\\static_01dc50cd3274905663fad0ebad59490f0701586a7505c76cdd71b7a9272bea32\n",
      "63 H:\\DoAnTotNghiep\\DAMH\\data_crawl\\tap_test_virus\\res\\static_0268197d39e1f00dc5ba2e20cf7f9f620f021194b49e5c1b38a2cba50863a56e\n",
      "68 H:\\DoAnTotNghiep\\DAMH\\data_crawl\\tap_test_virus\\res\\static_02a862a61dd0238b07c06e13ac06f4e13e3d91b35d59d8ad9aa169739438c745\n",
      "72 H:\\DoAnTotNghiep\\DAMH\\data_crawl\\tap_test_virus\\res\\static_02d32f6e99f1cbf015c8debba7174d68ab057e1175b787bb89b8ad86258eb437\n",
      "79 H:\\DoAnTotNghiep\\DAMH\\data_crawl\\tap_test_virus\\res\\static_0310010a3b9f8510067a5a286bb62b80e008519ef9d3b09cd69063772cd6eca5\n",
      "114 H:\\DoAnTotNghiep\\DAMH\\data_crawl\\tap_test_virus\\res\\static_05307dc31938db96fa37ee646cec645b90deab12dc3cf4ac286a7b02235a374e\n",
      "141 H:\\DoAnTotNghiep\\DAMH\\data_crawl\\tap_test_virus\\res\\static_06f654231f16fb5ad4491a9e750979a3e12398638aa557edae5e6770197ddf83\n",
      "144 H:\\DoAnTotNghiep\\DAMH\\data_crawl\\tap_test_virus\\res\\static_0726593e0db3744ae902de7fa4d085e724c4f4a11168d891903e82e6e91cfec8\n",
      "146 H:\\DoAnTotNghiep\\DAMH\\data_crawl\\tap_test_virus\\res\\static_0764ac3f67c3e4db24c95ee1cb7dc39e618f6819c5c0d802db804a3973ff5abe\n",
      "165 H:\\DoAnTotNghiep\\DAMH\\data_crawl\\tap_test_virus\\res\\static_09473a693d285831936baaff2e903163b1a6931c4ab7bef94f859677ceee135e\n",
      "170 H:\\DoAnTotNghiep\\DAMH\\data_crawl\\tap_test_virus\\res\\static_0994c96d8fef7ce0b86a26427208fdfb2dd0566006c312ebc874dd571faee353\n",
      "186 H:\\DoAnTotNghiep\\DAMH\\data_crawl\\tap_test_virus\\res\\static_0af224906c90283dc99b4b28aff29aceac6799c86ceab34237b41582567901ba\n",
      "202 H:\\DoAnTotNghiep\\DAMH\\data_crawl\\tap_test_virus\\res\\static_0c6d4fb93ad7c4b0a0b16b57aceb50c9de4209529131acd220bdc00c139615ba\n",
      "205 H:\\DoAnTotNghiep\\DAMH\\data_crawl\\tap_test_virus\\res\\static_0c9e87072800563e61edd1036b63f10daebc1002b35733b6d6d139e93da2d0f0\n",
      "222 H:\\DoAnTotNghiep\\DAMH\\data_crawl\\tap_test_virus\\res\\static_0dec1e61638767c4b38bbb286c6082b12ec26e223d226b8d9cccab3116692cc8\n",
      "230 H:\\DoAnTotNghiep\\DAMH\\data_crawl\\tap_test_virus\\res\\static_0ea213dffcba468d5e62b6b3d009d1ce92649bc6f05c73976a736a527c3d0fe0\n",
      "259 H:\\DoAnTotNghiep\\DAMH\\data_crawl\\tap_test_virus\\res\\static_10e56f049afab3716fce98136822f1e0045e5e3e256eaf492e863844d8ca1e54\n",
      "271 H:\\DoAnTotNghiep\\DAMH\\data_crawl\\tap_test_virus\\res\\static_11e074c7b3ca4551ace8cd179d15b00760f353c6cd63afe060719d5c861a1cc2\n",
      "282 H:\\DoAnTotNghiep\\DAMH\\data_crawl\\tap_test_virus\\res\\static_12fc11c3815c6c4b5fa434cd29b5a109729acaa2d4f4d39b18b03ff75002c5b3\n",
      "298 H:\\DoAnTotNghiep\\DAMH\\data_crawl\\tap_test_virus\\res\\static_14cf07141946eb5f806dceac9b919ec8d0c4ee01034c22c3c7250720619e9a38\n",
      "310 H:\\DoAnTotNghiep\\DAMH\\data_crawl\\tap_test_virus\\res\\static_15c0a71adc1202a764d61f03a6d128e1509cecfb58bfccd414013c697d77e9cc\n",
      "317 H:\\DoAnTotNghiep\\DAMH\\data_crawl\\tap_test_virus\\res\\static_167c7300baac037ce25583362e377c18be4c80373a5ead9bfafd5a656baca8ee\n",
      "338 H:\\DoAnTotNghiep\\DAMH\\data_crawl\\tap_test_virus\\res\\static_17eaaabc71632fce6555b18e3de886c04f88676bafee2b9cdcc67564cd3a57e9\n",
      "343 H:\\DoAnTotNghiep\\DAMH\\data_crawl\\tap_test_virus\\res\\static_18c719399550f0f1fde5e9a98496c78e0eaa83aed80442c3b9690ccae8563cf0\n",
      "353 H:\\DoAnTotNghiep\\DAMH\\data_crawl\\tap_test_virus\\res\\static_1a358c4c728b129a277beed3d61d42635491e0a1ce3dd7ed8946938ae406ac3c\n",
      "362 H:\\DoAnTotNghiep\\DAMH\\data_crawl\\tap_test_virus\\res\\static_1ae8f5b1be150a84259c7236ec0f5801c8df8a671acca5c4cbfdacafd9af87bb\n",
      "387 H:\\DoAnTotNghiep\\DAMH\\data_crawl\\tap_test_virus\\res\\static_1d612a547bfa991b932f27221592bd6ad96f99fa9738072c3f20ac3841fe72ca\n",
      "403 H:\\DoAnTotNghiep\\DAMH\\data_crawl\\tap_test_virus\\res\\static_1e7e98df3e61b52e6e06724ebe3f3cbeb1311f3c5f438796324376d3f90a8f2b\n",
      "420 H:\\DoAnTotNghiep\\DAMH\\data_crawl\\tap_test_virus\\res\\static_1fc52f85f767690bc723616b1a41e66913804aabdc2690a2130d9e5bd8eb7232\n",
      "430 H:\\DoAnTotNghiep\\DAMH\\data_crawl\\tap_test_virus\\res\\static_20989bd61446def15c1ecd31d3386f7baf8955838eac72844d80d3f59d5c29eb\n",
      "434 H:\\DoAnTotNghiep\\DAMH\\data_crawl\\tap_test_virus\\res\\static_2102ca78e39396a08ed2d778db4216582317778aa6c4e9c3bc5760375046ee4f\n",
      "443 H:\\DoAnTotNghiep\\DAMH\\data_crawl\\tap_test_virus\\res\\static_219afd226cd882e9c728afa7457936e3a4a583f399f5ef8590fd3ee6917de5cd\n",
      "461 H:\\DoAnTotNghiep\\DAMH\\data_crawl\\tap_test_virus\\res\\static_236663be40740e2de59fa149d209b12e5ef18360bd9dab7887c047942f9d1744\n",
      "472 H:\\DoAnTotNghiep\\DAMH\\data_crawl\\tap_test_virus\\res\\static_2417c5336c15dd067402f13d51b791295b2cce99677ac75318c95d2130458eac\n",
      "483 H:\\DoAnTotNghiep\\DAMH\\data_crawl\\tap_test_virus\\res\\static_24adcedc38c8b7ce27a0d1daf77f16b4bbf4c27fb4931d0254a4d8acd161db80\n",
      "488 H:\\DoAnTotNghiep\\DAMH\\data_crawl\\tap_test_virus\\res\\static_254217cd091973a1673bd9f8547945c188f19c81cb7b1f69b25dfba86e15ba93\n",
      "501 H:\\DoAnTotNghiep\\DAMH\\data_crawl\\tap_test_virus\\res\\static_267ddcc33afc3a5b31709ea923de03cca436f73ecf60025abcb21cd64c754b79\n",
      "505 H:\\DoAnTotNghiep\\DAMH\\data_crawl\\tap_test_virus\\res\\static_26bfa00847cce95e62c3bb88a53f13b138cb67aeef557150cbaf14294b96f175\n",
      "536 H:\\DoAnTotNghiep\\DAMH\\data_crawl\\tap_test_virus\\res\\static_28fb476900788c794631a8b47765c3f97672594d49e981dd791b5bf7974e3365\n",
      "547 H:\\DoAnTotNghiep\\DAMH\\data_crawl\\tap_test_virus\\res\\static_2a174ddb670e7db0e9dcde7dc75f2b1b138a1f3713b61230b411684cbb742af4\n",
      "590 H:\\DoAnTotNghiep\\DAMH\\data_crawl\\tap_test_virus\\res\\static_2ed0b6e527d7ba1d3951aee7aec89806cafc8ea2315b9cb442ceb3b84a00b26e\n",
      "609 H:\\DoAnTotNghiep\\DAMH\\data_crawl\\tap_test_virus\\res\\static_301066067241ca41c05a18676e66ee5b821a6d4f18125ca55c373f21928080b4\n",
      "614 H:\\DoAnTotNghiep\\DAMH\\data_crawl\\tap_test_virus\\res\\static_306b33039fe395e8438011d7a473de3862b4e184e5f9ffdc521574a7c7e7256a\n",
      "621 H:\\DoAnTotNghiep\\DAMH\\data_crawl\\tap_test_virus\\res\\static_30e5ecf504a47ded32b8d5ada06a89def014f07ffc3df7d79cc67b8eb680a4f0\n",
      "626 H:\\DoAnTotNghiep\\DAMH\\data_crawl\\tap_test_virus\\res\\static_3185806b83bcf71d0d965f337249a33a4220224eae1e52130562cf2a1bd846f9\n",
      "633 H:\\DoAnTotNghiep\\DAMH\\data_crawl\\tap_test_virus\\res\\static_3341cf04f90190f44a6c5296cfa52e7aab145d02410276a2b2a5a564d543437e\n",
      "645 H:\\DoAnTotNghiep\\DAMH\\data_crawl\\tap_test_virus\\res\\static_347185f9e12f8e8906cc58b7043f1732d449b9a356a1c2a914491167154beae5\n",
      "656 H:\\DoAnTotNghiep\\DAMH\\data_crawl\\tap_test_virus\\res\\static_35111bcdc027b320069485ca1951e40d635af84148cfbda287919fc364729bdb\n",
      "662 H:\\DoAnTotNghiep\\DAMH\\data_crawl\\tap_test_virus\\res\\static_365bbcbbc29ea76377d88d7a3d86244048394140c0b8bcd16fb3d614b7617523\n",
      "666 H:\\DoAnTotNghiep\\DAMH\\data_crawl\\tap_test_virus\\res\\static_3741590bd1a264e912f436175e72767d96e977e6522f840e2b4ea1dc7549d67e\n",
      "679 H:\\DoAnTotNghiep\\DAMH\\data_crawl\\tap_test_virus\\res\\static_390a735e951f9d5b20e7c17f0e7581ec8d8ee81bc5ad39323bc77a439aeeb826\n",
      "681 H:\\DoAnTotNghiep\\DAMH\\data_crawl\\tap_test_virus\\res\\static_3934d70dbc2d5fc8712b23a7315dbaa3ae5938fd078d9f4952595e4c8e3b608c\n",
      "693 H:\\DoAnTotNghiep\\DAMH\\data_crawl\\tap_test_virus\\res\\static_3a8071f670a428c69c41c2e66830d650e976e8dd6b11500e9253c060979ff6ef\n",
      "696 H:\\DoAnTotNghiep\\DAMH\\data_crawl\\tap_test_virus\\res\\static_3aa174ebef777aacd14a490b87910827bc47fb9eef236926bdaca8e1a25fb57d\n",
      "715 H:\\DoAnTotNghiep\\DAMH\\data_crawl\\tap_test_virus\\res\\static_3cf8a49d314d0fdb1cf8997d64a8b907b00e5e3290980560b35425b784f6c268\n",
      "717 H:\\DoAnTotNghiep\\DAMH\\data_crawl\\tap_test_virus\\res\\static_3d083f10e9a795f1a6a34ba855f81878e1f2047fefe87f70f5b6c6b4faa5d29b\n",
      "747 H:\\DoAnTotNghiep\\DAMH\\data_crawl\\tap_test_virus\\res\\static_412bce80e52437a582c231ce9989ef0810729f3416167173363987d061c1d810\n",
      "764 H:\\DoAnTotNghiep\\DAMH\\data_crawl\\tap_test_virus\\res\\static_4347946a4cf3f2f2b554112178506fdd1ac65c5064f73673e8360cc6406a718b\n",
      "775 H:\\DoAnTotNghiep\\DAMH\\data_crawl\\tap_test_virus\\res\\static_442e085d0d0b6a789df8903a445f4ec771e0c1ffa958182317fd8c152e59d8ea\n",
      "797 H:\\DoAnTotNghiep\\DAMH\\data_crawl\\tap_test_virus\\res\\static_4674745da72fbfcb2f6c8a8ab4d9852c5a5c0834f8ca39313c129d4c4e2c77d6\n",
      "860 H:\\DoAnTotNghiep\\DAMH\\data_crawl\\tap_test_virus\\res\\static_4ca4e0362fd009ec7a6e5361d9268b0657261a89d8a15c44cd7743fbca17c8ff\n",
      "887 H:\\DoAnTotNghiep\\DAMH\\data_crawl\\tap_test_virus\\res\\static_50e71c8245d9612971d6311ff03083ff70236617366019000dc1f7e79349ca69\n",
      "896 H:\\DoAnTotNghiep\\DAMH\\data_crawl\\tap_test_virus\\res\\static_51e017d0eca879e40aa22bbb15756a518200f05842640a938ca8ceeddc3d1481\n",
      "899 H:\\DoAnTotNghiep\\DAMH\\data_crawl\\tap_test_virus\\res\\static_51ff1bef85e4ff061471e11fce4355ab2e785b7953d5d034a9372c680c83fa45\n",
      "900 H:\\DoAnTotNghiep\\DAMH\\data_crawl\\tap_test_virus\\res\\static_523717d6e367363cfd166dc152278ca3e414601cb53906886afd7437e9d6ad24\n",
      "901 H:\\DoAnTotNghiep\\DAMH\\data_crawl\\tap_test_virus\\res\\static_524b57b7e88c665a93ae51dd4ab14be8061f924cf9d2f1a2764046b83be9b454\n",
      "913 H:\\DoAnTotNghiep\\DAMH\\data_crawl\\tap_test_virus\\res\\static_544d34a2b369d16c1542481fd3bc05a02e367064aa2d00cc2fbf4753951bd27c\n",
      "914 H:\\DoAnTotNghiep\\DAMH\\data_crawl\\tap_test_virus\\res\\static_54b081395ae5213ba676a525276242cab87d2dd240e830d69f873e368bfad3c8\n",
      "921 H:\\DoAnTotNghiep\\DAMH\\data_crawl\\tap_test_virus\\res\\static_55543a2d2915c90705644a77a39c8521e23284325293d395da26e15fab1ce140\n",
      "945 H:\\DoAnTotNghiep\\DAMH\\data_crawl\\tap_test_virus\\res\\static_599ea9299ce180113daa5e69d899368a13d689ff706dffada5bb0fbbdbb2eb1e\n",
      "950 H:\\DoAnTotNghiep\\DAMH\\data_crawl\\tap_test_virus\\res\\static_5a1613d8d5d9ff3f10d3a3fbf4eaed8b343f4b5efa2a018cc42803570e3008b7\n",
      "1038 H:\\DoAnTotNghiep\\DAMH\\data_crawl\\tap_test_virus\\res\\static_644ebee739672f32c69eca9705d41ab84726e8da3b9c4e1cbb92b5b9f79a07e8\n",
      "1101 H:\\DoAnTotNghiep\\DAMH\\data_crawl\\tap_test_virus\\res\\static_6c9446ce9a2c07b89561ad0426c80225068528175204507ca9d563fa85e07afa\n",
      "1111 H:\\DoAnTotNghiep\\DAMH\\data_crawl\\tap_test_virus\\res\\static_6e5eab66bea4b18d0dcdae9cf27d1927cd84cdccefafdd041354be02a64bcf01\n",
      "1129 H:\\DoAnTotNghiep\\DAMH\\data_crawl\\tap_test_virus\\res\\static_70a77767422ab40b7ac8a069f808c9cf0caa487e4b0f8b420e3d3af47ccccbdd\n",
      "1135 H:\\DoAnTotNghiep\\DAMH\\data_crawl\\tap_test_virus\\res\\static_716822738044827d237b8d090894d597d65e9ffc837bb6c4b663a326eea40155\n",
      "1159 H:\\DoAnTotNghiep\\DAMH\\data_crawl\\tap_test_virus\\res\\static_7417c5cc573b02e0b16bfcf8ddaa43861c9b69d861b025562b4d388c1b24f729\n",
      "1163 H:\\DoAnTotNghiep\\DAMH\\data_crawl\\tap_test_virus\\res\\static_745be512e432430fbc4d37b8294760387f5bb583fa4cb1ca543e05ce3c3cd1c7\n",
      "1209 H:\\DoAnTotNghiep\\DAMH\\data_crawl\\tap_test_virus\\res\\static_7d2c304525f6d6f3dfb5aef4f240e4a3a7e4676dd9d972f8fec0dc92dfd4e9ac\n",
      "1227 H:\\DoAnTotNghiep\\DAMH\\data_crawl\\tap_test_virus\\res\\static_7f3893f285807329312187fba913c464733345ee3bdf233eafa595408f7472d8\n",
      "1259 H:\\DoAnTotNghiep\\DAMH\\data_crawl\\tap_test_virus\\res\\static_8445de6b986b8b1dff9c834b48ef6ed09c5709b5bc8250055168f0d8122c36f5\n",
      "1279 H:\\DoAnTotNghiep\\DAMH\\data_crawl\\tap_test_virus\\res\\static_86d611acf0550a7d5ea4b951b4d424867c678dc297e18ee78f384eada92a54bf\n",
      "1289 H:\\DoAnTotNghiep\\DAMH\\data_crawl\\tap_test_virus\\res\\static_8830dfb26b48264c9fe9e357f75e1d8af2358048f4e0a8e2b8358a1fbdefdcc5\n",
      "1290 H:\\DoAnTotNghiep\\DAMH\\data_crawl\\tap_test_virus\\res\\static_887042f14b7e4bd686a332f8ba07cf4144ab989f4e19a60313b230d465b8750f\n",
      "1296 H:\\DoAnTotNghiep\\DAMH\\data_crawl\\tap_test_virus\\res\\static_88e6a1194f797a6291b8150affe95d123829f17ec51f8c3750c42cc59ba7ed8a\n",
      "1307 H:\\DoAnTotNghiep\\DAMH\\data_crawl\\tap_test_virus\\res\\static_8a116acc20358b9d8547ef0f7ac64af7caeff926dbdf861f572d5bfb5ee9c610\n",
      "1322 H:\\DoAnTotNghiep\\DAMH\\data_crawl\\tap_test_virus\\res\\static_8c6a620bd8f7fb0832df6721e343cddd6822eef5367d9a62609744d2253a69c6\n",
      "1324 H:\\DoAnTotNghiep\\DAMH\\data_crawl\\tap_test_virus\\res\\static_8c9e5ba3c8f33639b434b0d1b7bc3f8bc1829b132be9710a18f8597d639c22c7\n",
      "1328 H:\\DoAnTotNghiep\\DAMH\\data_crawl\\tap_test_virus\\res\\static_8d1bb94533a064d6b980ffb6c09517a4283a009475bc6e9481bae8ea83157b7e\n",
      "1332 H:\\DoAnTotNghiep\\DAMH\\data_crawl\\tap_test_virus\\res\\static_8d75a411fea2c9645c56ea5b6bea80c74f90836ce27b357059aae543d0a4d966\n",
      "1343 H:\\DoAnTotNghiep\\DAMH\\data_crawl\\tap_test_virus\\res\\static_8ea2081dba30a1fbd4299674eabd6c2b5ac57605ad602751e3855a487749e8ab\n",
      "1398 H:\\DoAnTotNghiep\\DAMH\\data_crawl\\tap_test_virus\\res\\static_966285fd153ebb6fdc93d9fbc2398308edab442453ea6198eed5dd6feeaf6f77\n",
      "1442 H:\\DoAnTotNghiep\\DAMH\\data_crawl\\tap_test_virus\\res\\static_9dbb2ad33281f2e8bd8ed75b8d532767fcea66c8efe0ef005e1138f13fc32e30\n",
      "1470 H:\\DoAnTotNghiep\\DAMH\\data_crawl\\tap_test_virus\\res\\static_a19c7cccd717f8fa87c7f9230112c0230705f0614e06f25e0ff54e915474fd1f\n",
      "1488 H:\\DoAnTotNghiep\\DAMH\\data_crawl\\tap_test_virus\\res\\static_a3f414c4e0e587f376fe4cc2701cced707ea699b1e8e3e7e5b9612582261e0d7\n",
      "1489 H:\\DoAnTotNghiep\\DAMH\\data_crawl\\tap_test_virus\\res\\static_a40d86c1b5ba62d5025604754d96fdd86cf8dc5c2e5ddea82ea1b5038d65023a\n",
      "1508 H:\\DoAnTotNghiep\\DAMH\\data_crawl\\tap_test_virus\\res\\static_a8bc487cdc79b36d6a76b7916e8a5e9eb298c0bb9eb4844021c143f20825f3bb\n",
      "1560 H:\\DoAnTotNghiep\\DAMH\\data_crawl\\tap_test_virus\\res\\static_b05a758c45df74f5d0de0fdab66e9ba97cbb36655c2d1b74c11db64a1d1ef7f9\n",
      "1562 H:\\DoAnTotNghiep\\DAMH\\data_crawl\\tap_test_virus\\res\\static_b0cda5258943064ca956bc8eef879482081a1408a9374539ec688f2de3eb3012\n",
      "1584 H:\\DoAnTotNghiep\\DAMH\\data_crawl\\tap_test_virus\\res\\static_b434c5806af69f2bd29bc648a955588a207b8baad14c755ea971df66b998a6d8\n",
      "1617 H:\\DoAnTotNghiep\\DAMH\\data_crawl\\tap_test_virus\\res\\static_b8c2f68f9c5eae8ebbe91dcdc664785e73a541b76c0413c6fdaf6fc23b06044c\n",
      "1633 H:\\DoAnTotNghiep\\DAMH\\data_crawl\\tap_test_virus\\res\\static_bbcd2714061e2acf4191d3deca09e973b2911b11cc972a0b05048a079606b523\n",
      "1655 H:\\DoAnTotNghiep\\DAMH\\data_crawl\\tap_test_virus\\res\\static_bf496fd4b4fd54c682512562e493e0ee1a9675066081e9f913c79518276823c8\n",
      "1657 H:\\DoAnTotNghiep\\DAMH\\data_crawl\\tap_test_virus\\res\\static_bf61af3b09c9800bcb376ea93beafd5d1b93dc4e83f638a8ad1136572c8c8c99\n",
      "1691 H:\\DoAnTotNghiep\\DAMH\\data_crawl\\tap_test_virus\\res\\static_c58683e04b028fb1e9c7b1ce301358dcb06e7c4d2598f04d443a510e09e00fc5\n",
      "1723 H:\\DoAnTotNghiep\\DAMH\\data_crawl\\tap_test_virus\\res\\static_c94dd2c942d8527ba1b1b36f3b4d6aea2c34998542d8dd3586f42cb39d41c8cc\n",
      "1736 H:\\DoAnTotNghiep\\DAMH\\data_crawl\\tap_test_virus\\res\\static_cb77e0bd9633bed4d85486a4575e30ca99c0832ddb0f7aeee009e21c851e0cfd\n",
      "1796 H:\\DoAnTotNghiep\\DAMH\\data_crawl\\tap_test_virus\\res\\static_d4a21b2b487a0589c329eb4da500034b720e435594e1612221f51821b328be8c\n",
      "1850 H:\\DoAnTotNghiep\\DAMH\\data_crawl\\tap_test_virus\\res\\static_db9fc959663d96965e6180bc19159e2611fb8a0f919845db8c8d69f5361c7fa9\n",
      "1870 H:\\DoAnTotNghiep\\DAMH\\data_crawl\\tap_test_virus\\res\\static_de49d1bafa299db8d4fa9ebe328fd164cd6e07ee1a6c2d3005b9b89ded87ba35\n",
      "1908 H:\\DoAnTotNghiep\\DAMH\\data_crawl\\tap_test_virus\\res\\static_e596e47f1ab6eaa008c0c1e01820b0f0f41054620f7767ad8956ce88cbaaaf43\n",
      "1916 H:\\DoAnTotNghiep\\DAMH\\data_crawl\\tap_test_virus\\res\\static_e6ff9b081e8129902251602b2294ca62e985c403b803ea283a95a2f9404aabcf\n",
      "1990 H:\\DoAnTotNghiep\\DAMH\\data_crawl\\tap_test_virus\\res\\static_ef7a8ec5b1191aa5ab76695e8c705197dd3ac491afda02bf3ded84ae1923c162\n",
      "2022 H:\\DoAnTotNghiep\\DAMH\\data_crawl\\tap_test_virus\\res\\static_f33aaf204fbb6dc4fca7d3d6dd9ae69d5736297443e810169d4e7256a4b70fc0\n",
      "2023 H:\\DoAnTotNghiep\\DAMH\\data_crawl\\tap_test_virus\\res\\static_f341a16272965bce8d24639a72a649d962cea097245aa4f65172dc8ec455c3a1\n",
      "2039 H:\\DoAnTotNghiep\\DAMH\\data_crawl\\tap_test_virus\\res\\static_f4ddd91ecc2bada576302bd3993d5b5d5688276b952aca9789dea7812b4ffbea\n",
      "2049 H:\\DoAnTotNghiep\\DAMH\\data_crawl\\tap_test_virus\\res\\static_f631b7a0a15df1582908687e99aa433d967297fecdb1b6a6b702beecb940a059\n",
      "2076 H:\\DoAnTotNghiep\\DAMH\\data_crawl\\tap_test_virus\\res\\static_f93ef8f19abe4922cbadd3253a4f8a126f4af242f9f47f5121b54b7d83a331b4\n"
     ]
    }
   ],
   "source": [
    "a=0\n",
    "b=0\n",
    "for x in range(len(y_sample)):\n",
    "    if y_sample[x][0]>y_sample[x][1]:\n",
    "        a+=1\n",
    "        print(x, file_names[x])\n",
    "    else:\n",
    "        b+=1"
   ]
  },
  {
   "cell_type": "code",
   "execution_count": 75,
   "metadata": {},
   "outputs": [
    {
     "name": "stdout",
     "output_type": "stream",
     "text": [
      "0.9420358152686145\n"
     ]
    }
   ],
   "source": [
    "a\n",
    "print(b/len(X_sample))"
   ]
  },
  {
   "cell_type": "markdown",
   "metadata": {},
   "source": [
    "# Check mẫu nhận nhầm"
   ]
  },
  {
   "cell_type": "code",
   "execution_count": null,
   "metadata": {},
   "outputs": [],
   "source": [
    "from pathlib import Path\n",
    "input_dir = Path('C:\\\\Users\\\\sontdc\\\\Desktop\\\\virus_nham')\n",
    "data_files = input_dir.glob('*')\n",
    "data_total = []\n",
    "label_total = []\n",
    "\n",
    "# them vao mang luu ten de tim mau nhan nham\n",
    "file_names = []\n",
    "\n",
    "a=0\n",
    "b=0\n",
    "i=0\n",
    "for file in data_files:\n",
    "    file_names.append(file)\n",
    "    with open(file, 'r') as f:\n",
    "        data = f.read().replace('\\x00','').lower()\n",
    "        data_total.append(data)\n",
    "    i+=1"
   ]
  },
  {
   "cell_type": "code",
   "execution_count": null,
   "metadata": {},
   "outputs": [],
   "source": [
    "X_sample = tokenizer.texts_to_sequences(data_total)\n",
    "X_sample = pad_sequences(X_sample, padding='post', maxlen=20000)"
   ]
  },
  {
   "cell_type": "code",
   "execution_count": null,
   "metadata": {},
   "outputs": [],
   "source": [
    "y_sample = model_load.predict(X_sample)"
   ]
  },
  {
   "cell_type": "code",
   "execution_count": null,
   "metadata": {},
   "outputs": [],
   "source": [
    "a=0\n",
    "b=0\n",
    "for x in range(len(y_sample)):\n",
    "    if y_sample[x][0]>y_sample[x][1]:\n",
    "        a+=1\n",
    "#         print(x, file_names[x])\n",
    "    else:\n",
    "        b+=1"
   ]
  },
  {
   "cell_type": "markdown",
   "metadata": {},
   "source": [
    "# Đồ thị hóa quá trình huấn luyện"
   ]
  },
  {
   "cell_type": "code",
   "execution_count": 5,
   "metadata": {},
   "outputs": [
    {
     "ename": "NameError",
     "evalue": "name 'history' is not defined",
     "output_type": "error",
     "traceback": [
      "\u001b[1;31m---------------------------------------------------------------------------\u001b[0m",
      "\u001b[1;31mNameError\u001b[0m                                 Traceback (most recent call last)",
      "\u001b[1;32m<ipython-input-5-88c8c8f082b0>\u001b[0m in \u001b[0;36m<module>\u001b[1;34m\u001b[0m\n\u001b[0;32m     21\u001b[0m \u001b[1;33m\u001b[0m\u001b[0m\n\u001b[0;32m     22\u001b[0m \u001b[0mget_ipython\u001b[0m\u001b[1;33m(\u001b[0m\u001b[1;33m)\u001b[0m\u001b[1;33m.\u001b[0m\u001b[0mrun_line_magic\u001b[0m\u001b[1;33m(\u001b[0m\u001b[1;34m'matplotlib'\u001b[0m\u001b[1;33m,\u001b[0m \u001b[1;34m'inline'\u001b[0m\u001b[1;33m)\u001b[0m\u001b[1;33m\u001b[0m\u001b[1;33m\u001b[0m\u001b[0m\n\u001b[1;32m---> 23\u001b[1;33m \u001b[0mplot_history\u001b[0m\u001b[1;33m(\u001b[0m\u001b[0mhistory\u001b[0m\u001b[1;33m)\u001b[0m\u001b[1;33m\u001b[0m\u001b[1;33m\u001b[0m\u001b[0m\n\u001b[0m",
      "\u001b[1;31mNameError\u001b[0m: name 'history' is not defined"
     ]
    }
   ],
   "source": [
    "plt.style.use('ggplot')\n",
    "\n",
    "def plot_history(history):\n",
    "    acc = history.history['accuracy']\n",
    "    val_acc = history.history['val_accuracy']\n",
    "    loss = history.history['loss']\n",
    "    val_loss = history.history['val_loss']\n",
    "    x = range(1, len(acc) + 1)\n",
    "\n",
    "    plt.figure(figsize=(12, 5))\n",
    "    plt.subplot(1, 2, 1)\n",
    "    plt.plot(x, acc, 'b', label='Training acc')\n",
    "    plt.plot(x, val_acc, 'r', label='Validation acc')\n",
    "    plt.title('Training and validation accuracy')\n",
    "    plt.legend()\n",
    "    plt.subplot(1, 2, 2)\n",
    "    plt.plot(x, loss, 'b', label='Training loss')\n",
    "    plt.plot(x, val_loss, 'r', label='Validation loss')\n",
    "    plt.title('Training and validation loss')\n",
    "    plt.legend()\n",
    "\n",
    "%matplotlib inline\n",
    "plot_history(history)"
   ]
  },
  {
   "cell_type": "code",
   "execution_count": null,
   "metadata": {},
   "outputs": [],
   "source": []
  },
  {
   "cell_type": "code",
   "execution_count": null,
   "metadata": {},
   "outputs": [],
   "source": []
  }
 ],
 "metadata": {
  "kernelspec": {
   "display_name": "Python 3",
   "language": "python",
   "name": "python3"
  },
  "language_info": {
   "codemirror_mode": {
    "name": "ipython",
    "version": 3
   },
   "file_extension": ".py",
   "mimetype": "text/x-python",
   "name": "python",
   "nbconvert_exporter": "python",
   "pygments_lexer": "ipython3",
   "version": "3.7.6"
  }
 },
 "nbformat": 4,
 "nbformat_minor": 4
}
